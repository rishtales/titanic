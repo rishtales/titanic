{
 "cells": [
  {
   "cell_type": "code",
   "execution_count": 1,
   "id": "9a93cdb4",
   "metadata": {
    "_cell_guid": "b1076dfc-b9ad-4769-8c92-a6c4dae69d19",
    "_uuid": "8f2839f25d086af736a60e9eeb907d3b93b6e0e5",
    "execution": {
     "iopub.execute_input": "2021-12-14T18:48:46.935295Z",
     "iopub.status.busy": "2021-12-14T18:48:46.933449Z",
     "iopub.status.idle": "2021-12-14T18:48:46.950202Z",
     "shell.execute_reply": "2021-12-14T18:48:46.949415Z",
     "shell.execute_reply.started": "2021-12-14T18:09:01.588485Z"
    },
    "papermill": {
     "duration": 0.061093,
     "end_time": "2021-12-14T18:48:46.950438",
     "exception": false,
     "start_time": "2021-12-14T18:48:46.889345",
     "status": "completed"
    },
    "tags": []
   },
   "outputs": [
    {
     "name": "stdout",
     "output_type": "stream",
     "text": [
      "/kaggle/input/titanic/train.csv\n",
      "/kaggle/input/titanic/test.csv\n",
      "/kaggle/input/titanic/gender_submission.csv\n"
     ]
    }
   ],
   "source": [
    "# This Python 3 environment comes with many helpful analytics libraries installed\n",
    "# It is defined by the kaggle/python Docker image: https://github.com/kaggle/docker-python\n",
    "# For example, here's several helpful packages to load\n",
    "\n",
    "import numpy as np # linear algebra\n",
    "import pandas as pd # data processing, CSV file I/O (e.g. pd.read_csv)\n",
    "\n",
    "# Input data files are available in the read-only \"../input/\" directory\n",
    "# For example, running this (by clicking run or pressing Shift+Enter) will list all files under the input directory\n",
    "\n",
    "import os\n",
    "for dirname, _, filenames in os.walk('/kaggle/input'):\n",
    "    for filename in filenames:\n",
    "        print(os.path.join(dirname, filename))\n",
    "\n",
    "# You can write up to 20GB to the current directory (/kaggle/working/) that gets preserved as output when you create a version using \"Save & Run All\" \n",
    "# You can also write temporary files to /kaggle/temp/, but they won't be saved outside of the current session"
   ]
  },
  {
   "cell_type": "code",
   "execution_count": 2,
   "id": "3e0e86f0",
   "metadata": {
    "execution": {
     "iopub.execute_input": "2021-12-14T18:48:47.058097Z",
     "iopub.status.busy": "2021-12-14T18:48:47.057206Z",
     "iopub.status.idle": "2021-12-14T18:48:47.980113Z",
     "shell.execute_reply": "2021-12-14T18:48:47.979585Z",
     "shell.execute_reply.started": "2021-12-14T18:09:01.602449Z"
    },
    "papermill": {
     "duration": 0.981541,
     "end_time": "2021-12-14T18:48:47.980298",
     "exception": false,
     "start_time": "2021-12-14T18:48:46.998757",
     "status": "completed"
    },
    "tags": []
   },
   "outputs": [],
   "source": [
    "import matplotlib.pyplot as plt\n",
    "import seaborn as sns"
   ]
  },
  {
   "cell_type": "code",
   "execution_count": 3,
   "id": "e9bb945b",
   "metadata": {
    "execution": {
     "iopub.execute_input": "2021-12-14T18:48:48.065061Z",
     "iopub.status.busy": "2021-12-14T18:48:48.063896Z",
     "iopub.status.idle": "2021-12-14T18:48:48.102331Z",
     "shell.execute_reply": "2021-12-14T18:48:48.102840Z",
     "shell.execute_reply.started": "2021-12-14T18:09:01.616739Z"
    },
    "papermill": {
     "duration": 0.082167,
     "end_time": "2021-12-14T18:48:48.102997",
     "exception": false,
     "start_time": "2021-12-14T18:48:48.020830",
     "status": "completed"
    },
    "tags": []
   },
   "outputs": [
    {
     "data": {
      "text/html": [
       "<div>\n",
       "<style scoped>\n",
       "    .dataframe tbody tr th:only-of-type {\n",
       "        vertical-align: middle;\n",
       "    }\n",
       "\n",
       "    .dataframe tbody tr th {\n",
       "        vertical-align: top;\n",
       "    }\n",
       "\n",
       "    .dataframe thead th {\n",
       "        text-align: right;\n",
       "    }\n",
       "</style>\n",
       "<table border=\"1\" class=\"dataframe\">\n",
       "  <thead>\n",
       "    <tr style=\"text-align: right;\">\n",
       "      <th></th>\n",
       "      <th>PassengerId</th>\n",
       "      <th>Survived</th>\n",
       "      <th>Pclass</th>\n",
       "      <th>Name</th>\n",
       "      <th>Sex</th>\n",
       "      <th>Age</th>\n",
       "      <th>SibSp</th>\n",
       "      <th>Parch</th>\n",
       "      <th>Ticket</th>\n",
       "      <th>Fare</th>\n",
       "      <th>Cabin</th>\n",
       "      <th>Embarked</th>\n",
       "    </tr>\n",
       "  </thead>\n",
       "  <tbody>\n",
       "    <tr>\n",
       "      <th>0</th>\n",
       "      <td>1</td>\n",
       "      <td>0</td>\n",
       "      <td>3</td>\n",
       "      <td>Braund, Mr. Owen Harris</td>\n",
       "      <td>male</td>\n",
       "      <td>22.0</td>\n",
       "      <td>1</td>\n",
       "      <td>0</td>\n",
       "      <td>A/5 21171</td>\n",
       "      <td>7.2500</td>\n",
       "      <td>NaN</td>\n",
       "      <td>S</td>\n",
       "    </tr>\n",
       "    <tr>\n",
       "      <th>1</th>\n",
       "      <td>2</td>\n",
       "      <td>1</td>\n",
       "      <td>1</td>\n",
       "      <td>Cumings, Mrs. John Bradley (Florence Briggs Th...</td>\n",
       "      <td>female</td>\n",
       "      <td>38.0</td>\n",
       "      <td>1</td>\n",
       "      <td>0</td>\n",
       "      <td>PC 17599</td>\n",
       "      <td>71.2833</td>\n",
       "      <td>C85</td>\n",
       "      <td>C</td>\n",
       "    </tr>\n",
       "    <tr>\n",
       "      <th>2</th>\n",
       "      <td>3</td>\n",
       "      <td>1</td>\n",
       "      <td>3</td>\n",
       "      <td>Heikkinen, Miss. Laina</td>\n",
       "      <td>female</td>\n",
       "      <td>26.0</td>\n",
       "      <td>0</td>\n",
       "      <td>0</td>\n",
       "      <td>STON/O2. 3101282</td>\n",
       "      <td>7.9250</td>\n",
       "      <td>NaN</td>\n",
       "      <td>S</td>\n",
       "    </tr>\n",
       "    <tr>\n",
       "      <th>3</th>\n",
       "      <td>4</td>\n",
       "      <td>1</td>\n",
       "      <td>1</td>\n",
       "      <td>Futrelle, Mrs. Jacques Heath (Lily May Peel)</td>\n",
       "      <td>female</td>\n",
       "      <td>35.0</td>\n",
       "      <td>1</td>\n",
       "      <td>0</td>\n",
       "      <td>113803</td>\n",
       "      <td>53.1000</td>\n",
       "      <td>C123</td>\n",
       "      <td>S</td>\n",
       "    </tr>\n",
       "    <tr>\n",
       "      <th>4</th>\n",
       "      <td>5</td>\n",
       "      <td>0</td>\n",
       "      <td>3</td>\n",
       "      <td>Allen, Mr. William Henry</td>\n",
       "      <td>male</td>\n",
       "      <td>35.0</td>\n",
       "      <td>0</td>\n",
       "      <td>0</td>\n",
       "      <td>373450</td>\n",
       "      <td>8.0500</td>\n",
       "      <td>NaN</td>\n",
       "      <td>S</td>\n",
       "    </tr>\n",
       "  </tbody>\n",
       "</table>\n",
       "</div>"
      ],
      "text/plain": [
       "   PassengerId  Survived  Pclass  \\\n",
       "0            1         0       3   \n",
       "1            2         1       1   \n",
       "2            3         1       3   \n",
       "3            4         1       1   \n",
       "4            5         0       3   \n",
       "\n",
       "                                                Name     Sex   Age  SibSp  \\\n",
       "0                            Braund, Mr. Owen Harris    male  22.0      1   \n",
       "1  Cumings, Mrs. John Bradley (Florence Briggs Th...  female  38.0      1   \n",
       "2                             Heikkinen, Miss. Laina  female  26.0      0   \n",
       "3       Futrelle, Mrs. Jacques Heath (Lily May Peel)  female  35.0      1   \n",
       "4                           Allen, Mr. William Henry    male  35.0      0   \n",
       "\n",
       "   Parch            Ticket     Fare Cabin Embarked  \n",
       "0      0         A/5 21171   7.2500   NaN        S  \n",
       "1      0          PC 17599  71.2833   C85        C  \n",
       "2      0  STON/O2. 3101282   7.9250   NaN        S  \n",
       "3      0            113803  53.1000  C123        S  \n",
       "4      0            373450   8.0500   NaN        S  "
      ]
     },
     "execution_count": 3,
     "metadata": {},
     "output_type": "execute_result"
    }
   ],
   "source": [
    "df = pd.read_csv('/kaggle/input/titanic/train.csv')\n",
    "df.head()"
   ]
  },
  {
   "cell_type": "code",
   "execution_count": 4,
   "id": "7715cb35",
   "metadata": {
    "execution": {
     "iopub.execute_input": "2021-12-14T18:48:48.194632Z",
     "iopub.status.busy": "2021-12-14T18:48:48.193738Z",
     "iopub.status.idle": "2021-12-14T18:48:48.201217Z",
     "shell.execute_reply": "2021-12-14T18:48:48.201733Z",
     "shell.execute_reply.started": "2021-12-14T18:09:01.648699Z"
    },
    "papermill": {
     "duration": 0.056948,
     "end_time": "2021-12-14T18:48:48.201900",
     "exception": false,
     "start_time": "2021-12-14T18:48:48.144952",
     "status": "completed"
    },
    "tags": []
   },
   "outputs": [],
   "source": [
    "df.drop(columns=['PassengerId'])\n",
    "df['Sex'].replace(['male','female'],[0,1],inplace=True)\n",
    "df['Embarked'].replace(['C','Q','S'],[0,1,2],inplace=True)"
   ]
  },
  {
   "cell_type": "code",
   "execution_count": 5,
   "id": "0ac22237",
   "metadata": {
    "execution": {
     "iopub.execute_input": "2021-12-14T18:48:48.284004Z",
     "iopub.status.busy": "2021-12-14T18:48:48.283424Z",
     "iopub.status.idle": "2021-12-14T18:48:48.300597Z",
     "shell.execute_reply": "2021-12-14T18:48:48.301203Z",
     "shell.execute_reply.started": "2021-12-14T18:09:01.661906Z"
    },
    "papermill": {
     "duration": 0.0595,
     "end_time": "2021-12-14T18:48:48.301411",
     "exception": false,
     "start_time": "2021-12-14T18:48:48.241911",
     "status": "completed"
    },
    "tags": []
   },
   "outputs": [
    {
     "name": "stdout",
     "output_type": "stream",
     "text": [
      "<class 'pandas.core.frame.DataFrame'>\n",
      "RangeIndex: 891 entries, 0 to 890\n",
      "Data columns (total 12 columns):\n",
      " #   Column       Non-Null Count  Dtype  \n",
      "---  ------       --------------  -----  \n",
      " 0   PassengerId  891 non-null    int64  \n",
      " 1   Survived     891 non-null    int64  \n",
      " 2   Pclass       891 non-null    int64  \n",
      " 3   Name         891 non-null    object \n",
      " 4   Sex          891 non-null    int64  \n",
      " 5   Age          714 non-null    float64\n",
      " 6   SibSp        891 non-null    int64  \n",
      " 7   Parch        891 non-null    int64  \n",
      " 8   Ticket       891 non-null    object \n",
      " 9   Fare         891 non-null    float64\n",
      " 10  Cabin        204 non-null    object \n",
      " 11  Embarked     889 non-null    float64\n",
      "dtypes: float64(3), int64(6), object(3)\n",
      "memory usage: 83.7+ KB\n"
     ]
    }
   ],
   "source": [
    "df.info()"
   ]
  },
  {
   "cell_type": "code",
   "execution_count": 6,
   "id": "5498ddae",
   "metadata": {
    "execution": {
     "iopub.execute_input": "2021-12-14T18:48:48.383077Z",
     "iopub.status.busy": "2021-12-14T18:48:48.382465Z",
     "iopub.status.idle": "2021-12-14T18:48:48.393877Z",
     "shell.execute_reply": "2021-12-14T18:48:48.394371Z",
     "shell.execute_reply.started": "2021-12-14T18:09:01.681599Z"
    },
    "papermill": {
     "duration": 0.053522,
     "end_time": "2021-12-14T18:48:48.394534",
     "exception": false,
     "start_time": "2021-12-14T18:48:48.341012",
     "status": "completed"
    },
    "tags": []
   },
   "outputs": [],
   "source": [
    "df['Embarked'].fillna(method='ffill',inplace = True)\n",
    "df['Age'] = (df['Age'].ffill() + df['Age'].bfill())/2"
   ]
  },
  {
   "cell_type": "code",
   "execution_count": 7,
   "id": "bbd22177",
   "metadata": {
    "execution": {
     "iopub.execute_input": "2021-12-14T18:48:48.477115Z",
     "iopub.status.busy": "2021-12-14T18:48:48.476514Z",
     "iopub.status.idle": "2021-12-14T18:48:48.528958Z",
     "shell.execute_reply": "2021-12-14T18:48:48.529560Z",
     "shell.execute_reply.started": "2021-12-14T18:09:01.698719Z"
    },
    "papermill": {
     "duration": 0.095736,
     "end_time": "2021-12-14T18:48:48.529734",
     "exception": false,
     "start_time": "2021-12-14T18:48:48.433998",
     "status": "completed"
    },
    "tags": []
   },
   "outputs": [
    {
     "data": {
      "text/html": [
       "<div>\n",
       "<style scoped>\n",
       "    .dataframe tbody tr th:only-of-type {\n",
       "        vertical-align: middle;\n",
       "    }\n",
       "\n",
       "    .dataframe tbody tr th {\n",
       "        vertical-align: top;\n",
       "    }\n",
       "\n",
       "    .dataframe thead th {\n",
       "        text-align: right;\n",
       "    }\n",
       "</style>\n",
       "<table border=\"1\" class=\"dataframe\">\n",
       "  <thead>\n",
       "    <tr style=\"text-align: right;\">\n",
       "      <th></th>\n",
       "      <th>PassengerId</th>\n",
       "      <th>Survived</th>\n",
       "      <th>Pclass</th>\n",
       "      <th>Name</th>\n",
       "      <th>Sex</th>\n",
       "      <th>Age</th>\n",
       "      <th>SibSp</th>\n",
       "      <th>Parch</th>\n",
       "      <th>Ticket</th>\n",
       "      <th>Fare</th>\n",
       "      <th>Cabin</th>\n",
       "      <th>Embarked</th>\n",
       "    </tr>\n",
       "  </thead>\n",
       "  <tbody>\n",
       "    <tr>\n",
       "      <th>0</th>\n",
       "      <td>1</td>\n",
       "      <td>0</td>\n",
       "      <td>3</td>\n",
       "      <td>Braund, Mr. Owen Harris</td>\n",
       "      <td>0</td>\n",
       "      <td>22.0</td>\n",
       "      <td>1</td>\n",
       "      <td>0</td>\n",
       "      <td>21171.0</td>\n",
       "      <td>7.2500</td>\n",
       "      <td>NaN</td>\n",
       "      <td>2.0</td>\n",
       "    </tr>\n",
       "    <tr>\n",
       "      <th>1</th>\n",
       "      <td>2</td>\n",
       "      <td>1</td>\n",
       "      <td>1</td>\n",
       "      <td>Cumings, Mrs. John Bradley (Florence Briggs Th...</td>\n",
       "      <td>1</td>\n",
       "      <td>38.0</td>\n",
       "      <td>1</td>\n",
       "      <td>0</td>\n",
       "      <td>17599.0</td>\n",
       "      <td>71.2833</td>\n",
       "      <td>C85</td>\n",
       "      <td>0.0</td>\n",
       "    </tr>\n",
       "    <tr>\n",
       "      <th>2</th>\n",
       "      <td>3</td>\n",
       "      <td>1</td>\n",
       "      <td>3</td>\n",
       "      <td>Heikkinen, Miss. Laina</td>\n",
       "      <td>1</td>\n",
       "      <td>26.0</td>\n",
       "      <td>0</td>\n",
       "      <td>0</td>\n",
       "      <td>3101282.0</td>\n",
       "      <td>7.9250</td>\n",
       "      <td>NaN</td>\n",
       "      <td>2.0</td>\n",
       "    </tr>\n",
       "    <tr>\n",
       "      <th>3</th>\n",
       "      <td>4</td>\n",
       "      <td>1</td>\n",
       "      <td>1</td>\n",
       "      <td>Futrelle, Mrs. Jacques Heath (Lily May Peel)</td>\n",
       "      <td>1</td>\n",
       "      <td>35.0</td>\n",
       "      <td>1</td>\n",
       "      <td>0</td>\n",
       "      <td>113803.0</td>\n",
       "      <td>53.1000</td>\n",
       "      <td>C123</td>\n",
       "      <td>2.0</td>\n",
       "    </tr>\n",
       "    <tr>\n",
       "      <th>4</th>\n",
       "      <td>5</td>\n",
       "      <td>0</td>\n",
       "      <td>3</td>\n",
       "      <td>Allen, Mr. William Henry</td>\n",
       "      <td>0</td>\n",
       "      <td>35.0</td>\n",
       "      <td>0</td>\n",
       "      <td>0</td>\n",
       "      <td>373450.0</td>\n",
       "      <td>8.0500</td>\n",
       "      <td>NaN</td>\n",
       "      <td>2.0</td>\n",
       "    </tr>\n",
       "  </tbody>\n",
       "</table>\n",
       "</div>"
      ],
      "text/plain": [
       "   PassengerId  Survived  Pclass  \\\n",
       "0            1         0       3   \n",
       "1            2         1       1   \n",
       "2            3         1       3   \n",
       "3            4         1       1   \n",
       "4            5         0       3   \n",
       "\n",
       "                                                Name  Sex   Age  SibSp  Parch  \\\n",
       "0                            Braund, Mr. Owen Harris    0  22.0      1      0   \n",
       "1  Cumings, Mrs. John Bradley (Florence Briggs Th...    1  38.0      1      0   \n",
       "2                             Heikkinen, Miss. Laina    1  26.0      0      0   \n",
       "3       Futrelle, Mrs. Jacques Heath (Lily May Peel)    1  35.0      1      0   \n",
       "4                           Allen, Mr. William Henry    0  35.0      0      0   \n",
       "\n",
       "      Ticket     Fare Cabin  Embarked  \n",
       "0    21171.0   7.2500   NaN       2.0  \n",
       "1    17599.0  71.2833   C85       0.0  \n",
       "2  3101282.0   7.9250   NaN       2.0  \n",
       "3   113803.0  53.1000  C123       2.0  \n",
       "4   373450.0   8.0500   NaN       2.0  "
      ]
     },
     "execution_count": 7,
     "metadata": {},
     "output_type": "execute_result"
    }
   ],
   "source": [
    "ticket_arr = np.zeros((df.shape[0]))\n",
    "for i in range(df['Ticket'].shape[0]):\n",
    "    str_list = df.iloc[i,8].split()\n",
    "    try:\n",
    "        ticket_arr[i] = float(str_list[-1])\n",
    "    except:\n",
    "        ticket_arr[i] = np.NaN\n",
    "df['Ticket'] = pd.Series(ticket_arr)\n",
    "df['Ticket'] = (df['Ticket'].ffill() + df['Ticket'].bfill())/2\n",
    "df.head()"
   ]
  },
  {
   "cell_type": "code",
   "execution_count": 8,
   "id": "42bb8628",
   "metadata": {
    "execution": {
     "iopub.execute_input": "2021-12-14T18:48:48.614340Z",
     "iopub.status.busy": "2021-12-14T18:48:48.613600Z",
     "iopub.status.idle": "2021-12-14T18:48:48.626389Z",
     "shell.execute_reply": "2021-12-14T18:48:48.625859Z",
     "shell.execute_reply.started": "2021-12-14T18:09:01.762622Z"
    },
    "papermill": {
     "duration": 0.056538,
     "end_time": "2021-12-14T18:48:48.626526",
     "exception": false,
     "start_time": "2021-12-14T18:48:48.569988",
     "status": "completed"
    },
    "tags": []
   },
   "outputs": [
    {
     "name": "stdout",
     "output_type": "stream",
     "text": [
      "<class 'pandas.core.frame.DataFrame'>\n",
      "RangeIndex: 891 entries, 0 to 890\n",
      "Data columns (total 12 columns):\n",
      " #   Column       Non-Null Count  Dtype  \n",
      "---  ------       --------------  -----  \n",
      " 0   PassengerId  891 non-null    int64  \n",
      " 1   Survived     891 non-null    int64  \n",
      " 2   Pclass       891 non-null    int64  \n",
      " 3   Name         891 non-null    object \n",
      " 4   Sex          891 non-null    int64  \n",
      " 5   Age          891 non-null    float64\n",
      " 6   SibSp        891 non-null    int64  \n",
      " 7   Parch        891 non-null    int64  \n",
      " 8   Ticket       891 non-null    float64\n",
      " 9   Fare         891 non-null    float64\n",
      " 10  Cabin        204 non-null    object \n",
      " 11  Embarked     891 non-null    float64\n",
      "dtypes: float64(4), int64(6), object(2)\n",
      "memory usage: 83.7+ KB\n"
     ]
    }
   ],
   "source": [
    "df.info()"
   ]
  },
  {
   "cell_type": "code",
   "execution_count": 9,
   "id": "fb4cbef7",
   "metadata": {
    "execution": {
     "iopub.execute_input": "2021-12-14T18:48:48.712568Z",
     "iopub.status.busy": "2021-12-14T18:48:48.711946Z",
     "iopub.status.idle": "2021-12-14T18:48:48.749259Z",
     "shell.execute_reply": "2021-12-14T18:48:48.749839Z",
     "shell.execute_reply.started": "2021-12-14T18:09:01.783817Z"
    },
    "papermill": {
     "duration": 0.081222,
     "end_time": "2021-12-14T18:48:48.750002",
     "exception": false,
     "start_time": "2021-12-14T18:48:48.668780",
     "status": "completed"
    },
    "tags": []
   },
   "outputs": [
    {
     "data": {
      "text/html": [
       "<div>\n",
       "<style scoped>\n",
       "    .dataframe tbody tr th:only-of-type {\n",
       "        vertical-align: middle;\n",
       "    }\n",
       "\n",
       "    .dataframe tbody tr th {\n",
       "        vertical-align: top;\n",
       "    }\n",
       "\n",
       "    .dataframe thead th {\n",
       "        text-align: right;\n",
       "    }\n",
       "</style>\n",
       "<table border=\"1\" class=\"dataframe\">\n",
       "  <thead>\n",
       "    <tr style=\"text-align: right;\">\n",
       "      <th></th>\n",
       "      <th>PassengerId</th>\n",
       "      <th>Survived</th>\n",
       "      <th>Pclass</th>\n",
       "      <th>Sex</th>\n",
       "      <th>Age</th>\n",
       "      <th>SibSp</th>\n",
       "      <th>Parch</th>\n",
       "      <th>Ticket</th>\n",
       "      <th>Fare</th>\n",
       "      <th>Embarked</th>\n",
       "    </tr>\n",
       "  </thead>\n",
       "  <tbody>\n",
       "    <tr>\n",
       "      <th>count</th>\n",
       "      <td>891.000000</td>\n",
       "      <td>891.000000</td>\n",
       "      <td>891.000000</td>\n",
       "      <td>891.000000</td>\n",
       "      <td>891.000000</td>\n",
       "      <td>891.000000</td>\n",
       "      <td>891.000000</td>\n",
       "      <td>8.910000e+02</td>\n",
       "      <td>891.000000</td>\n",
       "      <td>891.000000</td>\n",
       "    </tr>\n",
       "    <tr>\n",
       "      <th>mean</th>\n",
       "      <td>446.000000</td>\n",
       "      <td>0.383838</td>\n",
       "      <td>2.308642</td>\n",
       "      <td>0.352413</td>\n",
       "      <td>29.726061</td>\n",
       "      <td>0.523008</td>\n",
       "      <td>0.381594</td>\n",
       "      <td>2.978099e+05</td>\n",
       "      <td>32.204208</td>\n",
       "      <td>1.533109</td>\n",
       "    </tr>\n",
       "    <tr>\n",
       "      <th>std</th>\n",
       "      <td>257.353842</td>\n",
       "      <td>0.486592</td>\n",
       "      <td>0.836071</td>\n",
       "      <td>0.477990</td>\n",
       "      <td>13.883103</td>\n",
       "      <td>1.102743</td>\n",
       "      <td>0.806057</td>\n",
       "      <td>6.561971e+05</td>\n",
       "      <td>49.693429</td>\n",
       "      <td>0.793069</td>\n",
       "    </tr>\n",
       "    <tr>\n",
       "      <th>min</th>\n",
       "      <td>1.000000</td>\n",
       "      <td>0.000000</td>\n",
       "      <td>1.000000</td>\n",
       "      <td>0.000000</td>\n",
       "      <td>0.420000</td>\n",
       "      <td>0.000000</td>\n",
       "      <td>0.000000</td>\n",
       "      <td>3.000000e+00</td>\n",
       "      <td>0.000000</td>\n",
       "      <td>0.000000</td>\n",
       "    </tr>\n",
       "    <tr>\n",
       "      <th>25%</th>\n",
       "      <td>223.500000</td>\n",
       "      <td>0.000000</td>\n",
       "      <td>2.000000</td>\n",
       "      <td>0.000000</td>\n",
       "      <td>21.000000</td>\n",
       "      <td>0.000000</td>\n",
       "      <td>0.000000</td>\n",
       "      <td>1.487900e+04</td>\n",
       "      <td>7.910400</td>\n",
       "      <td>1.000000</td>\n",
       "    </tr>\n",
       "    <tr>\n",
       "      <th>50%</th>\n",
       "      <td>446.000000</td>\n",
       "      <td>0.000000</td>\n",
       "      <td>3.000000</td>\n",
       "      <td>0.000000</td>\n",
       "      <td>28.500000</td>\n",
       "      <td>0.000000</td>\n",
       "      <td>0.000000</td>\n",
       "      <td>1.130280e+05</td>\n",
       "      <td>14.454200</td>\n",
       "      <td>2.000000</td>\n",
       "    </tr>\n",
       "    <tr>\n",
       "      <th>75%</th>\n",
       "      <td>668.500000</td>\n",
       "      <td>1.000000</td>\n",
       "      <td>3.000000</td>\n",
       "      <td>1.000000</td>\n",
       "      <td>38.000000</td>\n",
       "      <td>1.000000</td>\n",
       "      <td>0.000000</td>\n",
       "      <td>3.470820e+05</td>\n",
       "      <td>31.000000</td>\n",
       "      <td>2.000000</td>\n",
       "    </tr>\n",
       "    <tr>\n",
       "      <th>max</th>\n",
       "      <td>891.000000</td>\n",
       "      <td>1.000000</td>\n",
       "      <td>3.000000</td>\n",
       "      <td>1.000000</td>\n",
       "      <td>80.000000</td>\n",
       "      <td>8.000000</td>\n",
       "      <td>6.000000</td>\n",
       "      <td>3.101317e+06</td>\n",
       "      <td>512.329200</td>\n",
       "      <td>2.000000</td>\n",
       "    </tr>\n",
       "  </tbody>\n",
       "</table>\n",
       "</div>"
      ],
      "text/plain": [
       "       PassengerId    Survived      Pclass         Sex         Age  \\\n",
       "count   891.000000  891.000000  891.000000  891.000000  891.000000   \n",
       "mean    446.000000    0.383838    2.308642    0.352413   29.726061   \n",
       "std     257.353842    0.486592    0.836071    0.477990   13.883103   \n",
       "min       1.000000    0.000000    1.000000    0.000000    0.420000   \n",
       "25%     223.500000    0.000000    2.000000    0.000000   21.000000   \n",
       "50%     446.000000    0.000000    3.000000    0.000000   28.500000   \n",
       "75%     668.500000    1.000000    3.000000    1.000000   38.000000   \n",
       "max     891.000000    1.000000    3.000000    1.000000   80.000000   \n",
       "\n",
       "            SibSp       Parch        Ticket        Fare    Embarked  \n",
       "count  891.000000  891.000000  8.910000e+02  891.000000  891.000000  \n",
       "mean     0.523008    0.381594  2.978099e+05   32.204208    1.533109  \n",
       "std      1.102743    0.806057  6.561971e+05   49.693429    0.793069  \n",
       "min      0.000000    0.000000  3.000000e+00    0.000000    0.000000  \n",
       "25%      0.000000    0.000000  1.487900e+04    7.910400    1.000000  \n",
       "50%      0.000000    0.000000  1.130280e+05   14.454200    2.000000  \n",
       "75%      1.000000    0.000000  3.470820e+05   31.000000    2.000000  \n",
       "max      8.000000    6.000000  3.101317e+06  512.329200    2.000000  "
      ]
     },
     "execution_count": 9,
     "metadata": {},
     "output_type": "execute_result"
    }
   ],
   "source": [
    "df.describe()"
   ]
  },
  {
   "cell_type": "code",
   "execution_count": 10,
   "id": "69209e63",
   "metadata": {
    "execution": {
     "iopub.execute_input": "2021-12-14T18:48:48.838544Z",
     "iopub.status.busy": "2021-12-14T18:48:48.837908Z",
     "iopub.status.idle": "2021-12-14T18:48:48.841222Z",
     "shell.execute_reply": "2021-12-14T18:48:48.841726Z",
     "shell.execute_reply.started": "2021-12-14T18:09:01.836797Z"
    },
    "papermill": {
     "duration": 0.048833,
     "end_time": "2021-12-14T18:48:48.841890",
     "exception": false,
     "start_time": "2021-12-14T18:48:48.793057",
     "status": "completed"
    },
    "tags": []
   },
   "outputs": [],
   "source": [
    "numerical_features = ['Age','SibSp','Parch','Fare','Ticket']\n",
    "categorical_features = ['Survived','Pclass','Sex','Embarked']"
   ]
  },
  {
   "cell_type": "code",
   "execution_count": 11,
   "id": "a8ff19cd",
   "metadata": {
    "execution": {
     "iopub.execute_input": "2021-12-14T18:48:48.929008Z",
     "iopub.status.busy": "2021-12-14T18:48:48.928372Z",
     "iopub.status.idle": "2021-12-14T18:48:49.689098Z",
     "shell.execute_reply": "2021-12-14T18:48:49.688601Z",
     "shell.execute_reply.started": "2021-12-14T18:09:01.842911Z"
    },
    "papermill": {
     "duration": 0.805821,
     "end_time": "2021-12-14T18:48:49.689252",
     "exception": false,
     "start_time": "2021-12-14T18:48:48.883431",
     "status": "completed"
    },
    "tags": []
   },
   "outputs": [
    {
     "name": "stderr",
     "output_type": "stream",
     "text": [
      "/opt/conda/lib/python3.7/site-packages/seaborn/_decorators.py:43: FutureWarning: Pass the following variable as a keyword arg: x. From version 0.12, the only valid positional argument will be `data`, and passing other arguments without an explicit keyword will result in an error or misinterpretation.\n",
      "  FutureWarning\n",
      "/opt/conda/lib/python3.7/site-packages/seaborn/_decorators.py:43: FutureWarning: Pass the following variable as a keyword arg: x. From version 0.12, the only valid positional argument will be `data`, and passing other arguments without an explicit keyword will result in an error or misinterpretation.\n",
      "  FutureWarning\n",
      "/opt/conda/lib/python3.7/site-packages/seaborn/_decorators.py:43: FutureWarning: Pass the following variable as a keyword arg: x. From version 0.12, the only valid positional argument will be `data`, and passing other arguments without an explicit keyword will result in an error or misinterpretation.\n",
      "  FutureWarning\n",
      "/opt/conda/lib/python3.7/site-packages/ipykernel_launcher.py:9: UserWarning: Attempting to set identical left == right == 0.0 results in singular transformations; automatically expanding.\n",
      "  if __name__ == '__main__':\n",
      "/opt/conda/lib/python3.7/site-packages/seaborn/_decorators.py:43: FutureWarning: Pass the following variable as a keyword arg: x. From version 0.12, the only valid positional argument will be `data`, and passing other arguments without an explicit keyword will result in an error or misinterpretation.\n",
      "  FutureWarning\n",
      "/opt/conda/lib/python3.7/site-packages/seaborn/_decorators.py:43: FutureWarning: Pass the following variable as a keyword arg: x. From version 0.12, the only valid positional argument will be `data`, and passing other arguments without an explicit keyword will result in an error or misinterpretation.\n",
      "  FutureWarning\n"
     ]
    },
    {
     "data": {
      "image/png": "[encoded data removed]",
      "text/plain": [
       "<Figure size 2160x2160 with 5 Axes>"
      ]
     },
     "metadata": {
      "needs_background": "light"
     },
     "output_type": "display_data"
    }
   ],
   "source": [
    "plt.rcParams['font.size'] = 16\n",
    "plt.figure(figsize=(30,30))\n",
    "i = 1\n",
    "for col in numerical_features:\n",
    "    plt.subplot(3,2,i)\n",
    "    i = i + 1\n",
    "    ax = sns.boxplot(df[col])\n",
    "    IQR = df[col].quantile(0.75) - df[col].quantile(0.25)\n",
    "    ax.set_xlim([df[col].quantile(0.25) - 1.45*IQR,df[col].quantile(0.75) + 1.45*IQR])"
   ]
  },
  {
   "cell_type": "code",
   "execution_count": 12,
   "id": "7385aad2",
   "metadata": {
    "execution": {
     "iopub.execute_input": "2021-12-14T18:48:49.783887Z",
     "iopub.status.busy": "2021-12-14T18:48:49.783197Z",
     "iopub.status.idle": "2021-12-14T18:48:51.270667Z",
     "shell.execute_reply": "2021-12-14T18:48:51.271166Z",
     "shell.execute_reply.started": "2021-12-14T18:09:02.623605Z"
    },
    "papermill": {
     "duration": 1.538089,
     "end_time": "2021-12-14T18:48:51.271357",
     "exception": false,
     "start_time": "2021-12-14T18:48:49.733268",
     "status": "completed"
    },
    "tags": []
   },
   "outputs": [
    {
     "name": "stderr",
     "output_type": "stream",
     "text": [
      "/opt/conda/lib/python3.7/site-packages/seaborn/distributions.py:2619: FutureWarning: `distplot` is a deprecated function and will be removed in a future version. Please adapt your code to use either `displot` (a figure-level function with similar flexibility) or `histplot` (an axes-level function for histograms).\n",
      "  warnings.warn(msg, FutureWarning)\n",
      "/opt/conda/lib/python3.7/site-packages/seaborn/distributions.py:2619: FutureWarning: `distplot` is a deprecated function and will be removed in a future version. Please adapt your code to use either `displot` (a figure-level function with similar flexibility) or `histplot` (an axes-level function for histograms).\n",
      "  warnings.warn(msg, FutureWarning)\n",
      "/opt/conda/lib/python3.7/site-packages/seaborn/distributions.py:2619: FutureWarning: `distplot` is a deprecated function and will be removed in a future version. Please adapt your code to use either `displot` (a figure-level function with similar flexibility) or `histplot` (an axes-level function for histograms).\n",
      "  warnings.warn(msg, FutureWarning)\n",
      "/opt/conda/lib/python3.7/site-packages/seaborn/distributions.py:2619: FutureWarning: `distplot` is a deprecated function and will be removed in a future version. Please adapt your code to use either `displot` (a figure-level function with similar flexibility) or `histplot` (an axes-level function for histograms).\n",
      "  warnings.warn(msg, FutureWarning)\n",
      "/opt/conda/lib/python3.7/site-packages/seaborn/distributions.py:2619: FutureWarning: `distplot` is a deprecated function and will be removed in a future version. Please adapt your code to use either `displot` (a figure-level function with similar flexibility) or `histplot` (an axes-level function for histograms).\n",
      "  warnings.warn(msg, FutureWarning)\n"
     ]
    },
    {
     "data": {
      "image/png": "[encoded data removed]",
      "text/plain": [
       "<Figure size 2160x2160 with 5 Axes>"
      ]
     },
     "metadata": {
      "needs_background": "light"
     },
     "output_type": "display_data"
    }
   ],
   "source": [
    "plt.figure(figsize=(30,30))\n",
    "i = 1\n",
    "for col in numerical_features:\n",
    "    plt.subplot(3,2,i)\n",
    "    i = i + 1\n",
    "    ax = sns.distplot(df[col])\n",
    "    IQR = df[col].quantile(0.75) - df[col].quantile(0.25)\n",
    "    #ax.set_xlim([df[col].quantile(0.25) - 1.45*IQR,df[col].quantile(0.75) + 1.45*IQR])"
   ]
  },
  {
   "cell_type": "code",
   "execution_count": 13,
   "id": "6cff7a4d",
   "metadata": {
    "execution": {
     "iopub.execute_input": "2021-12-14T18:48:51.374646Z",
     "iopub.status.busy": "2021-12-14T18:48:51.373821Z",
     "iopub.status.idle": "2021-12-14T18:48:51.376836Z",
     "shell.execute_reply": "2021-12-14T18:48:51.376315Z",
     "shell.execute_reply.started": "2021-12-14T18:09:04.230771Z"
    },
    "papermill": {
     "duration": 0.056501,
     "end_time": "2021-12-14T18:48:51.376967",
     "exception": false,
     "start_time": "2021-12-14T18:48:51.320466",
     "status": "completed"
    },
    "tags": []
   },
   "outputs": [],
   "source": [
    "df['Fare'] = np.log(df['Fare']+1)"
   ]
  },
  {
   "cell_type": "code",
   "execution_count": 14,
   "id": "aad3440d",
   "metadata": {
    "execution": {
     "iopub.execute_input": "2021-12-14T18:48:51.473151Z",
     "iopub.status.busy": "2021-12-14T18:48:51.472228Z",
     "iopub.status.idle": "2021-12-14T18:48:51.847997Z",
     "shell.execute_reply": "2021-12-14T18:48:51.847412Z",
     "shell.execute_reply.started": "2021-12-14T18:09:04.239940Z"
    },
    "papermill": {
     "duration": 0.425349,
     "end_time": "2021-12-14T18:48:51.848155",
     "exception": false,
     "start_time": "2021-12-14T18:48:51.422806",
     "status": "completed"
    },
    "tags": []
   },
   "outputs": [
    {
     "name": "stderr",
     "output_type": "stream",
     "text": [
      "/opt/conda/lib/python3.7/site-packages/seaborn/distributions.py:2619: FutureWarning: `distplot` is a deprecated function and will be removed in a future version. Please adapt your code to use either `displot` (a figure-level function with similar flexibility) or `histplot` (an axes-level function for histograms).\n",
      "  warnings.warn(msg, FutureWarning)\n"
     ]
    },
    {
     "data": {
      "text/plain": [
       "<AxesSubplot:xlabel='Fare', ylabel='Density'>"
      ]
     },
     "execution_count": 14,
     "metadata": {},
     "output_type": "execute_result"
    },
    {
     "data": {
      "image/png": "[encoded data removed]",
      "text/plain": [
       "<Figure size 432x288 with 1 Axes>"
      ]
     },
     "metadata": {
      "needs_background": "light"
     },
     "output_type": "display_data"
    }
   ],
   "source": [
    "sns.distplot(df['Fare'])"
   ]
  },
  {
   "cell_type": "code",
   "execution_count": 15,
   "id": "836fbec4",
   "metadata": {
    "execution": {
     "iopub.execute_input": "2021-12-14T18:48:51.952659Z",
     "iopub.status.busy": "2021-12-14T18:48:51.951694Z",
     "iopub.status.idle": "2021-12-14T18:48:52.199125Z",
     "shell.execute_reply": "2021-12-14T18:48:52.199599Z",
     "shell.execute_reply.started": "2021-12-14T18:09:04.524514Z"
    },
    "papermill": {
     "duration": 0.301548,
     "end_time": "2021-12-14T18:48:52.199767",
     "exception": false,
     "start_time": "2021-12-14T18:48:51.898219",
     "status": "completed"
    },
    "tags": []
   },
   "outputs": [
    {
     "name": "stderr",
     "output_type": "stream",
     "text": [
      "/opt/conda/lib/python3.7/site-packages/seaborn/distributions.py:2619: FutureWarning: `distplot` is a deprecated function and will be removed in a future version. Please adapt your code to use either `displot` (a figure-level function with similar flexibility) or `histplot` (an axes-level function for histograms).\n",
      "  warnings.warn(msg, FutureWarning)\n"
     ]
    },
    {
     "data": {
      "text/plain": [
       "<AxesSubplot:xlabel='Ticket', ylabel='Density'>"
      ]
     },
     "execution_count": 15,
     "metadata": {},
     "output_type": "execute_result"
    },
    {
     "data": {
      "image/png": "[encoded data removed]",
      "text/plain": [
       "<Figure size 432x288 with 1 Axes>"
      ]
     },
     "metadata": {
      "needs_background": "light"
     },
     "output_type": "display_data"
    }
   ],
   "source": [
    "df['Ticket'] = np.log(df['Ticket'])\n",
    "sns.distplot(df['Ticket'])"
   ]
  },
  {
   "cell_type": "code",
   "execution_count": 16,
   "id": "b96bb612",
   "metadata": {
    "execution": {
     "iopub.execute_input": "2021-12-14T18:48:52.306013Z",
     "iopub.status.busy": "2021-12-14T18:48:52.305379Z",
     "iopub.status.idle": "2021-12-14T18:48:52.311979Z",
     "shell.execute_reply": "2021-12-14T18:48:52.312433Z",
     "shell.execute_reply.started": "2021-12-14T18:09:04.825394Z"
    },
    "papermill": {
     "duration": 0.062144,
     "end_time": "2021-12-14T18:48:52.312598",
     "exception": false,
     "start_time": "2021-12-14T18:48:52.250454",
     "status": "completed"
    },
    "tags": []
   },
   "outputs": [
    {
     "data": {
      "text/plain": [
       "0    549\n",
       "1    342\n",
       "Name: Survived, dtype: int64"
      ]
     },
     "execution_count": 16,
     "metadata": {},
     "output_type": "execute_result"
    }
   ],
   "source": [
    "df['Survived'].value_counts()"
   ]
  },
  {
   "cell_type": "code",
   "execution_count": 17,
   "id": "09d79455",
   "metadata": {
    "execution": {
     "iopub.execute_input": "2021-12-14T18:48:52.425994Z",
     "iopub.status.busy": "2021-12-14T18:48:52.422649Z",
     "iopub.status.idle": "2021-12-14T18:48:53.074440Z",
     "shell.execute_reply": "2021-12-14T18:48:53.074955Z",
     "shell.execute_reply.started": "2021-12-14T18:09:04.836995Z"
    },
    "papermill": {
     "duration": 0.709192,
     "end_time": "2021-12-14T18:48:53.075119",
     "exception": false,
     "start_time": "2021-12-14T18:48:52.365927",
     "status": "completed"
    },
    "tags": []
   },
   "outputs": [
    {
     "data": {
      "image/png": "[encoded data removed]",
      "text/plain": [
       "<Figure size 2160x2160 with 4 Axes>"
      ]
     },
     "metadata": {
      "needs_background": "light"
     },
     "output_type": "display_data"
    }
   ],
   "source": [
    "i = 1\n",
    "plt.figure(figsize=(30,30))\n",
    "for col in categorical_features:\n",
    "    plt.subplot(2,2,i)\n",
    "    i = i + 1\n",
    "    df_box = df[col].value_counts()\n",
    "    df_box.plot.bar()\n",
    "    plt.xlabel(col)\n",
    "    "
   ]
  },
  {
   "cell_type": "code",
   "execution_count": 18,
   "id": "8627d532",
   "metadata": {
    "execution": {
     "iopub.execute_input": "2021-12-14T18:48:53.187504Z",
     "iopub.status.busy": "2021-12-14T18:48:53.186829Z",
     "iopub.status.idle": "2021-12-14T18:48:53.226338Z",
     "shell.execute_reply": "2021-12-14T18:48:53.226818Z",
     "shell.execute_reply.started": "2021-12-14T18:09:05.718532Z"
    },
    "papermill": {
     "duration": 0.099411,
     "end_time": "2021-12-14T18:48:53.226990",
     "exception": false,
     "start_time": "2021-12-14T18:48:53.127579",
     "status": "completed"
    },
    "tags": []
   },
   "outputs": [
    {
     "name": "stdout",
     "output_type": "stream",
     "text": [
      "Pclass      1   2    3\n",
      "Survived              \n",
      "0          80  97  372\n",
      "1         136  87  119\n",
      "Sex         0    1\n",
      "Survived          \n",
      "0         468   81\n",
      "1         109  233\n",
      "Embarked  0.0  1.0  2.0\n",
      "Survived               \n",
      "0          75   47  427\n",
      "1          94   31  217\n"
     ]
    }
   ],
   "source": [
    "for col in categorical_features:\n",
    "    if(col!='Survived'):\n",
    "        print(df.pivot_table(index='Survived',columns=col,aggfunc='count')['Age'])"
   ]
  },
  {
   "cell_type": "code",
   "execution_count": 19,
   "id": "c6200303",
   "metadata": {
    "execution": {
     "iopub.execute_input": "2021-12-14T18:48:53.336416Z",
     "iopub.status.busy": "2021-12-14T18:48:53.335703Z",
     "iopub.status.idle": "2021-12-14T18:48:54.165809Z",
     "shell.execute_reply": "2021-12-14T18:48:54.166417Z",
     "shell.execute_reply.started": "2021-12-14T18:09:05.764778Z"
    },
    "papermill": {
     "duration": 0.88647,
     "end_time": "2021-12-14T18:48:54.166578",
     "exception": false,
     "start_time": "2021-12-14T18:48:53.280108",
     "status": "completed"
    },
    "tags": []
   },
   "outputs": [
    {
     "data": {
      "image/png": "[encoded data removed]",
      "text/plain": [
       "<Figure size 2160x2160 with 5 Axes>"
      ]
     },
     "metadata": {
      "needs_background": "light"
     },
     "output_type": "display_data"
    }
   ],
   "source": [
    "i = 1\n",
    "plt.figure(figsize=(30,30))\n",
    "for col in numerical_features:\n",
    "    plt.subplot(3,2,i)\n",
    "    i = i + 1\n",
    "    sns.boxplot(x=df['Survived'],y=df[col])"
   ]
  },
  {
   "cell_type": "code",
   "execution_count": 20,
   "id": "47c6cea2",
   "metadata": {
    "execution": {
     "iopub.execute_input": "2021-12-14T18:48:54.277868Z",
     "iopub.status.busy": "2021-12-14T18:48:54.277258Z",
     "iopub.status.idle": "2021-12-14T18:48:54.291315Z",
     "shell.execute_reply": "2021-12-14T18:48:54.291946Z",
     "shell.execute_reply.started": "2021-12-14T18:09:06.649853Z"
    },
    "papermill": {
     "duration": 0.071228,
     "end_time": "2021-12-14T18:48:54.292144",
     "exception": false,
     "start_time": "2021-12-14T18:48:54.220916",
     "status": "completed"
    },
    "tags": []
   },
   "outputs": [
    {
     "data": {
      "text/html": [
       "<div>\n",
       "<style scoped>\n",
       "    .dataframe tbody tr th:only-of-type {\n",
       "        vertical-align: middle;\n",
       "    }\n",
       "\n",
       "    .dataframe tbody tr th {\n",
       "        vertical-align: top;\n",
       "    }\n",
       "\n",
       "    .dataframe thead th {\n",
       "        text-align: right;\n",
       "    }\n",
       "</style>\n",
       "<table border=\"1\" class=\"dataframe\">\n",
       "  <thead>\n",
       "    <tr style=\"text-align: right;\">\n",
       "      <th></th>\n",
       "      <th>PassengerId</th>\n",
       "      <th>Survived</th>\n",
       "      <th>Pclass</th>\n",
       "      <th>Name</th>\n",
       "      <th>Sex</th>\n",
       "      <th>Age</th>\n",
       "      <th>SibSp</th>\n",
       "      <th>Parch</th>\n",
       "      <th>Ticket</th>\n",
       "      <th>Fare</th>\n",
       "      <th>Cabin</th>\n",
       "      <th>Embarked</th>\n",
       "    </tr>\n",
       "  </thead>\n",
       "  <tbody>\n",
       "    <tr>\n",
       "      <th>0</th>\n",
       "      <td>1</td>\n",
       "      <td>0</td>\n",
       "      <td>3</td>\n",
       "      <td>Braund, Mr. Owen Harris</td>\n",
       "      <td>0</td>\n",
       "      <td>22.0</td>\n",
       "      <td>1</td>\n",
       "      <td>0</td>\n",
       "      <td>9.960388</td>\n",
       "      <td>2.110213</td>\n",
       "      <td>NaN</td>\n",
       "      <td>2.0</td>\n",
       "    </tr>\n",
       "    <tr>\n",
       "      <th>1</th>\n",
       "      <td>2</td>\n",
       "      <td>1</td>\n",
       "      <td>1</td>\n",
       "      <td>Cumings, Mrs. John Bradley (Florence Briggs Th...</td>\n",
       "      <td>1</td>\n",
       "      <td>38.0</td>\n",
       "      <td>1</td>\n",
       "      <td>0</td>\n",
       "      <td>9.775597</td>\n",
       "      <td>4.280593</td>\n",
       "      <td>C85</td>\n",
       "      <td>0.0</td>\n",
       "    </tr>\n",
       "    <tr>\n",
       "      <th>2</th>\n",
       "      <td>3</td>\n",
       "      <td>1</td>\n",
       "      <td>3</td>\n",
       "      <td>Heikkinen, Miss. Laina</td>\n",
       "      <td>1</td>\n",
       "      <td>26.0</td>\n",
       "      <td>0</td>\n",
       "      <td>0</td>\n",
       "      <td>14.947326</td>\n",
       "      <td>2.188856</td>\n",
       "      <td>NaN</td>\n",
       "      <td>2.0</td>\n",
       "    </tr>\n",
       "    <tr>\n",
       "      <th>3</th>\n",
       "      <td>4</td>\n",
       "      <td>1</td>\n",
       "      <td>1</td>\n",
       "      <td>Futrelle, Mrs. Jacques Heath (Lily May Peel)</td>\n",
       "      <td>1</td>\n",
       "      <td>35.0</td>\n",
       "      <td>1</td>\n",
       "      <td>0</td>\n",
       "      <td>11.642224</td>\n",
       "      <td>3.990834</td>\n",
       "      <td>C123</td>\n",
       "      <td>2.0</td>\n",
       "    </tr>\n",
       "    <tr>\n",
       "      <th>4</th>\n",
       "      <td>5</td>\n",
       "      <td>0</td>\n",
       "      <td>3</td>\n",
       "      <td>Allen, Mr. William Henry</td>\n",
       "      <td>0</td>\n",
       "      <td>35.0</td>\n",
       "      <td>0</td>\n",
       "      <td>0</td>\n",
       "      <td>12.830539</td>\n",
       "      <td>2.202765</td>\n",
       "      <td>NaN</td>\n",
       "      <td>2.0</td>\n",
       "    </tr>\n",
       "  </tbody>\n",
       "</table>\n",
       "</div>"
      ],
      "text/plain": [
       "   PassengerId  Survived  Pclass  \\\n",
       "0            1         0       3   \n",
       "1            2         1       1   \n",
       "2            3         1       3   \n",
       "3            4         1       1   \n",
       "4            5         0       3   \n",
       "\n",
       "                                                Name  Sex   Age  SibSp  Parch  \\\n",
       "0                            Braund, Mr. Owen Harris    0  22.0      1      0   \n",
       "1  Cumings, Mrs. John Bradley (Florence Briggs Th...    1  38.0      1      0   \n",
       "2                             Heikkinen, Miss. Laina    1  26.0      0      0   \n",
       "3       Futrelle, Mrs. Jacques Heath (Lily May Peel)    1  35.0      1      0   \n",
       "4                           Allen, Mr. William Henry    0  35.0      0      0   \n",
       "\n",
       "      Ticket      Fare Cabin  Embarked  \n",
       "0   9.960388  2.110213   NaN       2.0  \n",
       "1   9.775597  4.280593   C85       0.0  \n",
       "2  14.947326  2.188856   NaN       2.0  \n",
       "3  11.642224  3.990834  C123       2.0  \n",
       "4  12.830539  2.202765   NaN       2.0  "
      ]
     },
     "execution_count": 20,
     "metadata": {},
     "output_type": "execute_result"
    }
   ],
   "source": [
    "df.head()"
   ]
  },
  {
   "cell_type": "code",
   "execution_count": 21,
   "id": "1f6e9982",
   "metadata": {
    "execution": {
     "iopub.execute_input": "2021-12-14T18:48:54.408306Z",
     "iopub.status.busy": "2021-12-14T18:48:54.407641Z",
     "iopub.status.idle": "2021-12-14T18:48:54.512624Z",
     "shell.execute_reply": "2021-12-14T18:48:54.513073Z",
     "shell.execute_reply.started": "2021-12-14T18:09:06.671846Z"
    },
    "papermill": {
     "duration": 0.164358,
     "end_time": "2021-12-14T18:48:54.513235",
     "exception": false,
     "start_time": "2021-12-14T18:48:54.348877",
     "status": "completed"
    },
    "tags": []
   },
   "outputs": [],
   "source": [
    "from sklearn.preprocessing import StandardScaler\n",
    "ss = StandardScaler()\n",
    "x = df[['Pclass','Sex','Embarked','Parch','Fare','Age','SibSp','Ticket']]\n",
    "y = df['Survived']\n",
    "x = ss.fit_transform(x)"
   ]
  },
  {
   "cell_type": "code",
   "execution_count": 22,
   "id": "621f8407",
   "metadata": {
    "execution": {
     "iopub.execute_input": "2021-12-14T18:48:54.627063Z",
     "iopub.status.busy": "2021-12-14T18:48:54.626456Z",
     "iopub.status.idle": "2021-12-14T18:48:54.676463Z",
     "shell.execute_reply": "2021-12-14T18:48:54.676957Z",
     "shell.execute_reply.started": "2021-12-14T18:09:06.688381Z"
    },
    "papermill": {
     "duration": 0.108249,
     "end_time": "2021-12-14T18:48:54.677135",
     "exception": false,
     "start_time": "2021-12-14T18:48:54.568886",
     "status": "completed"
    },
    "tags": []
   },
   "outputs": [],
   "source": [
    "from sklearn.model_selection import train_test_split as tts\n",
    "from sklearn.metrics import confusion_matrix,classification_report\n",
    "x_train,x_test,y_train,y_test = tts(x,y,test_size=0.2,random_state=10)"
   ]
  },
  {
   "cell_type": "code",
   "execution_count": 23,
   "id": "4ff9e4ac",
   "metadata": {
    "execution": {
     "iopub.execute_input": "2021-12-14T18:48:54.794018Z",
     "iopub.status.busy": "2021-12-14T18:48:54.793374Z",
     "iopub.status.idle": "2021-12-14T18:48:55.090993Z",
     "shell.execute_reply": "2021-12-14T18:48:55.091493Z",
     "shell.execute_reply.started": "2021-12-14T18:09:06.698662Z"
    },
    "papermill": {
     "duration": 0.358911,
     "end_time": "2021-12-14T18:48:55.091665",
     "exception": false,
     "start_time": "2021-12-14T18:48:54.732754",
     "status": "completed"
    },
    "tags": []
   },
   "outputs": [
    {
     "name": "stdout",
     "output_type": "stream",
     "text": [
      "              precision    recall  f1-score   support\n",
      "\n",
      "           0       0.82      0.86      0.84       432\n",
      "           1       0.76      0.70      0.73       280\n",
      "\n",
      "    accuracy                           0.80       712\n",
      "   macro avg       0.79      0.78      0.78       712\n",
      "weighted avg       0.79      0.80      0.79       712\n",
      "\n",
      "              precision    recall  f1-score   support\n",
      "\n",
      "           0       0.87      0.85      0.86       117\n",
      "           1       0.73      0.76      0.75        62\n",
      "\n",
      "    accuracy                           0.82       179\n",
      "   macro avg       0.80      0.81      0.80       179\n",
      "weighted avg       0.82      0.82      0.82       179\n",
      "\n"
     ]
    },
    {
     "data": {
      "image/png": "[encoded data removed]",
      "text/plain": [
       "<Figure size 432x288 with 2 Axes>"
      ]
     },
     "metadata": {
      "needs_background": "light"
     },
     "output_type": "display_data"
    }
   ],
   "source": [
    "from sklearn.linear_model import LogisticRegression\n",
    "lr = LogisticRegression()\n",
    "lr.fit(x_train,y_train)\n",
    "y_pred = lr.predict(x_test)\n",
    "con_mat = confusion_matrix(y_test,y_pred)\n",
    "sns.heatmap(con_mat,annot = True)\n",
    "print(classification_report(y_train,lr.predict(x_train)))\n",
    "print(classification_report(y_test,y_pred))"
   ]
  },
  {
   "cell_type": "code",
   "execution_count": 24,
   "id": "9ffa3849",
   "metadata": {
    "execution": {
     "iopub.execute_input": "2021-12-14T18:48:55.209333Z",
     "iopub.status.busy": "2021-12-14T18:48:55.208658Z",
     "iopub.status.idle": "2021-12-14T18:48:55.434918Z",
     "shell.execute_reply": "2021-12-14T18:48:55.435386Z",
     "shell.execute_reply.started": "2021-12-14T18:09:06.932946Z"
    },
    "papermill": {
     "duration": 0.287963,
     "end_time": "2021-12-14T18:48:55.435553",
     "exception": false,
     "start_time": "2021-12-14T18:48:55.147590",
     "status": "completed"
    },
    "tags": []
   },
   "outputs": [
    {
     "name": "stdout",
     "output_type": "stream",
     "text": [
      "              precision    recall  f1-score   support\n",
      "\n",
      "           0       0.84      0.76      0.80       432\n",
      "           1       0.68      0.78      0.72       280\n",
      "\n",
      "    accuracy                           0.77       712\n",
      "   macro avg       0.76      0.77      0.76       712\n",
      "weighted avg       0.77      0.77      0.77       712\n",
      "\n",
      "              precision    recall  f1-score   support\n",
      "\n",
      "           0       0.86      0.75      0.80       117\n",
      "           1       0.62      0.77      0.69        62\n",
      "\n",
      "    accuracy                           0.76       179\n",
      "   macro avg       0.74      0.76      0.75       179\n",
      "weighted avg       0.78      0.76      0.76       179\n",
      "\n"
     ]
    },
    {
     "data": {
      "image/png": "[encoded data removed]",
      "text/plain": [
       "<Figure size 432x288 with 2 Axes>"
      ]
     },
     "metadata": {
      "needs_background": "light"
     },
     "output_type": "display_data"
    }
   ],
   "source": [
    "from sklearn.naive_bayes import GaussianNB\n",
    "nb = GaussianNB()\n",
    "nb.fit(x_train,y_train)\n",
    "y_pred = nb.predict(x_test)\n",
    "con_mat = confusion_matrix(y_test,y_pred)\n",
    "sns.heatmap(con_mat,annot = True)\n",
    "print(classification_report(y_train,nb.predict(x_train)))\n",
    "print(classification_report(y_test,y_pred))"
   ]
  },
  {
   "cell_type": "code",
   "execution_count": 25,
   "id": "39118f38",
   "metadata": {
    "execution": {
     "iopub.execute_input": "2021-12-14T18:48:55.558886Z",
     "iopub.status.busy": "2021-12-14T18:48:55.558179Z",
     "iopub.status.idle": "2021-12-14T18:48:55.794655Z",
     "shell.execute_reply": "2021-12-14T18:48:55.794114Z",
     "shell.execute_reply.started": "2021-12-14T18:09:07.197311Z"
    },
    "papermill": {
     "duration": 0.301782,
     "end_time": "2021-12-14T18:48:55.794792",
     "exception": false,
     "start_time": "2021-12-14T18:48:55.493010",
     "status": "completed"
    },
    "tags": []
   },
   "outputs": [
    {
     "name": "stdout",
     "output_type": "stream",
     "text": [
      "              precision    recall  f1-score   support\n",
      "\n",
      "           0       0.81      0.85      0.83       432\n",
      "           1       0.75      0.68      0.71       280\n",
      "\n",
      "    accuracy                           0.79       712\n",
      "   macro avg       0.78      0.77      0.77       712\n",
      "weighted avg       0.78      0.79      0.78       712\n",
      "\n",
      "              precision    recall  f1-score   support\n",
      "\n",
      "           0       0.85      0.89      0.87       117\n",
      "           1       0.77      0.69      0.73        62\n",
      "\n",
      "    accuracy                           0.82       179\n",
      "   macro avg       0.81      0.79      0.80       179\n",
      "weighted avg       0.82      0.82      0.82       179\n",
      "\n"
     ]
    },
    {
     "data": {
      "image/png": "[encoded data removed]",
      "text/plain": [
       "<Figure size 432x288 with 2 Axes>"
      ]
     },
     "metadata": {
      "needs_background": "light"
     },
     "output_type": "display_data"
    }
   ],
   "source": [
    "from sklearn.linear_model import SGDClassifier\n",
    "sgdc = SGDClassifier(loss = 'modified_huber',shuffle=True,random_state=101)\n",
    "sgdc.fit(x_train,y_train)\n",
    "y_pred = sgdc.predict(x_test)\n",
    "con_mat = confusion_matrix(y_test,y_pred)\n",
    "sns.heatmap(con_mat,annot = True)\n",
    "print(classification_report(y_train,sgdc.predict(x_train)))\n",
    "print(classification_report(y_test,y_pred))"
   ]
  },
  {
   "cell_type": "code",
   "execution_count": 26,
   "id": "78e5a112",
   "metadata": {
    "execution": {
     "iopub.execute_input": "2021-12-14T18:48:55.915745Z",
     "iopub.status.busy": "2021-12-14T18:48:55.915098Z",
     "iopub.status.idle": "2021-12-14T18:48:56.232388Z",
     "shell.execute_reply": "2021-12-14T18:48:56.232835Z",
     "shell.execute_reply.started": "2021-12-14T18:09:07.469972Z"
    },
    "papermill": {
     "duration": 0.380722,
     "end_time": "2021-12-14T18:48:56.233002",
     "exception": false,
     "start_time": "2021-12-14T18:48:55.852280",
     "status": "completed"
    },
    "tags": []
   },
   "outputs": [
    {
     "name": "stdout",
     "output_type": "stream",
     "text": [
      "              precision    recall  f1-score   support\n",
      "\n",
      "           0       0.86      0.90      0.88       432\n",
      "           1       0.83      0.77      0.80       280\n",
      "\n",
      "    accuracy                           0.85       712\n",
      "   macro avg       0.85      0.84      0.84       712\n",
      "weighted avg       0.85      0.85      0.85       712\n",
      "\n",
      "              precision    recall  f1-score   support\n",
      "\n",
      "           0       0.88      0.86      0.87       117\n",
      "           1       0.75      0.77      0.76        62\n",
      "\n",
      "    accuracy                           0.83       179\n",
      "   macro avg       0.81      0.82      0.82       179\n",
      "weighted avg       0.83      0.83      0.83       179\n",
      "\n"
     ]
    },
    {
     "data": {
      "image/png": "[encoded data removed]",
      "text/plain": [
       "<Figure size 432x288 with 2 Axes>"
      ]
     },
     "metadata": {
      "needs_background": "light"
     },
     "output_type": "display_data"
    }
   ],
   "source": [
    "from sklearn.neighbors import KNeighborsClassifier\n",
    "knc = KNeighborsClassifier()\n",
    "knc.fit(x_train,y_train)\n",
    "y_pred = knc.predict(x_test)\n",
    "con_mat = confusion_matrix(y_test,y_pred)\n",
    "sns.heatmap(con_mat,annot = True)\n",
    "print(classification_report(y_train,knc.predict(x_train)))\n",
    "print(classification_report(y_test,y_pred))"
   ]
  },
  {
   "cell_type": "code",
   "execution_count": 27,
   "id": "08ef112e",
   "metadata": {
    "execution": {
     "iopub.execute_input": "2021-12-14T18:48:56.359057Z",
     "iopub.status.busy": "2021-12-14T18:48:56.358437Z",
     "iopub.status.idle": "2021-12-14T18:48:56.605623Z",
     "shell.execute_reply": "2021-12-14T18:48:56.605030Z",
     "shell.execute_reply.started": "2021-12-14T18:09:07.775282Z"
    },
    "papermill": {
     "duration": 0.313342,
     "end_time": "2021-12-14T18:48:56.605783",
     "exception": false,
     "start_time": "2021-12-14T18:48:56.292441",
     "status": "completed"
    },
    "tags": []
   },
   "outputs": [
    {
     "name": "stdout",
     "output_type": "stream",
     "text": [
      "              precision    recall  f1-score   support\n",
      "\n",
      "           0       0.83      0.92      0.87       432\n",
      "           1       0.85      0.71      0.78       280\n",
      "\n",
      "    accuracy                           0.84       712\n",
      "   macro avg       0.84      0.82      0.83       712\n",
      "weighted avg       0.84      0.84      0.84       712\n",
      "\n",
      "              precision    recall  f1-score   support\n",
      "\n",
      "           0       0.87      0.90      0.88       117\n",
      "           1       0.79      0.74      0.77        62\n",
      "\n",
      "    accuracy                           0.84       179\n",
      "   macro avg       0.83      0.82      0.82       179\n",
      "weighted avg       0.84      0.84      0.84       179\n",
      "\n"
     ]
    },
    {
     "data": {
      "image/png": "[encoded data removed]",
      "text/plain": [
       "<Figure size 432x288 with 2 Axes>"
      ]
     },
     "metadata": {
      "needs_background": "light"
     },
     "output_type": "display_data"
    }
   ],
   "source": [
    "from sklearn.svm import SVC\n",
    "svc = SVC()\n",
    "svc.fit(x_train,y_train)\n",
    "y_pred = svc.predict(x_test)\n",
    "con_mat = confusion_matrix(y_test,y_pred)\n",
    "sns.heatmap(con_mat,annot = True)\n",
    "print(classification_report(y_train,svc.predict(x_train)))\n",
    "print(classification_report(y_test,y_pred))"
   ]
  },
  {
   "cell_type": "code",
   "execution_count": 28,
   "id": "d802efcb",
   "metadata": {
    "execution": {
     "iopub.execute_input": "2021-12-14T18:48:56.731903Z",
     "iopub.status.busy": "2021-12-14T18:48:56.731243Z",
     "iopub.status.idle": "2021-12-14T18:48:58.440441Z",
     "shell.execute_reply": "2021-12-14T18:48:58.440937Z",
     "shell.execute_reply.started": "2021-12-14T18:09:08.061932Z"
    },
    "papermill": {
     "duration": 1.774339,
     "end_time": "2021-12-14T18:48:58.441094",
     "exception": false,
     "start_time": "2021-12-14T18:48:56.666755",
     "status": "completed"
    },
    "tags": []
   },
   "outputs": [
    {
     "data": {
      "text/plain": [
       "GridSearchCV(cv=5, estimator=SVC(),\n",
       "             param_grid={'degree': [1, 2, 3, 4, 5],\n",
       "                         'kernel': ['linear', 'poly', 'rbf', 'sigmoid']},\n",
       "             scoring='f1_macro')"
      ]
     },
     "execution_count": 28,
     "metadata": {},
     "output_type": "execute_result"
    }
   ],
   "source": [
    "from sklearn.model_selection import GridSearchCV\n",
    "gsv = GridSearchCV(svc,{'kernel':['linear', 'poly', 'rbf', 'sigmoid'],'degree':[1,2,3,4,5]},cv=5,scoring='f1_macro')\n",
    "gsv.fit(x,y)"
   ]
  },
  {
   "cell_type": "code",
   "execution_count": 29,
   "id": "528ee6f5",
   "metadata": {
    "execution": {
     "iopub.execute_input": "2021-12-14T18:48:58.560901Z",
     "iopub.status.busy": "2021-12-14T18:48:58.560295Z",
     "iopub.status.idle": "2021-12-14T18:48:58.565147Z",
     "shell.execute_reply": "2021-12-14T18:48:58.565696Z",
     "shell.execute_reply.started": "2021-12-14T18:09:09.730931Z"
    },
    "papermill": {
     "duration": 0.066809,
     "end_time": "2021-12-14T18:48:58.565872",
     "exception": false,
     "start_time": "2021-12-14T18:48:58.499063",
     "status": "completed"
    },
    "tags": []
   },
   "outputs": [
    {
     "name": "stdout",
     "output_type": "stream",
     "text": [
      "0.8004591463204729\n",
      "{'degree': 1, 'kernel': 'rbf'}\n"
     ]
    }
   ],
   "source": [
    "print(gsv.best_score_)\n",
    "print(gsv.best_params_)"
   ]
  },
  {
   "cell_type": "code",
   "execution_count": 30,
   "id": "2169b41e",
   "metadata": {
    "execution": {
     "iopub.execute_input": "2021-12-14T18:48:58.693692Z",
     "iopub.status.busy": "2021-12-14T18:48:58.690486Z",
     "iopub.status.idle": "2021-12-14T18:48:58.949280Z",
     "shell.execute_reply": "2021-12-14T18:48:58.948581Z",
     "shell.execute_reply.started": "2021-12-14T18:09:09.737862Z"
    },
    "papermill": {
     "duration": 0.322365,
     "end_time": "2021-12-14T18:48:58.949425",
     "exception": false,
     "start_time": "2021-12-14T18:48:58.627060",
     "status": "completed"
    },
    "tags": []
   },
   "outputs": [
    {
     "name": "stdout",
     "output_type": "stream",
     "text": [
      "              precision    recall  f1-score   support\n",
      "\n",
      "           0       0.89      0.95      0.92       432\n",
      "           1       0.92      0.82      0.87       280\n",
      "\n",
      "    accuracy                           0.90       712\n",
      "   macro avg       0.91      0.89      0.90       712\n",
      "weighted avg       0.90      0.90      0.90       712\n",
      "\n",
      "              precision    recall  f1-score   support\n",
      "\n",
      "           0       0.85      0.88      0.87       117\n",
      "           1       0.76      0.71      0.73        62\n",
      "\n",
      "    accuracy                           0.82       179\n",
      "   macro avg       0.80      0.80      0.80       179\n",
      "weighted avg       0.82      0.82      0.82       179\n",
      "\n"
     ]
    },
    {
     "data": {
      "image/png": "[encoded data removed]",
      "text/plain": [
       "<Figure size 432x288 with 2 Axes>"
      ]
     },
     "metadata": {
      "needs_background": "light"
     },
     "output_type": "display_data"
    }
   ],
   "source": [
    "from sklearn.tree import DecisionTreeClassifier\n",
    "dtc = DecisionTreeClassifier(max_depth=7,random_state=101)\n",
    "dtc.fit(x_train,y_train)\n",
    "y_pred = dtc.predict(x_test)\n",
    "con_mat = confusion_matrix(y_test,y_pred)\n",
    "sns.heatmap(con_mat,annot = True)\n",
    "print(classification_report(y_train,dtc.predict(x_train)))\n",
    "print(classification_report(y_test,y_pred))"
   ]
  },
  {
   "cell_type": "code",
   "execution_count": 31,
   "id": "bbd7a334",
   "metadata": {
    "execution": {
     "iopub.execute_input": "2021-12-14T18:48:59.081207Z",
     "iopub.status.busy": "2021-12-14T18:48:59.080559Z",
     "iopub.status.idle": "2021-12-14T18:49:00.558049Z",
     "shell.execute_reply": "2021-12-14T18:49:00.557557Z",
     "shell.execute_reply.started": "2021-12-14T18:09:10.002772Z"
    },
    "papermill": {
     "duration": 1.546551,
     "end_time": "2021-12-14T18:49:00.558187",
     "exception": false,
     "start_time": "2021-12-14T18:48:59.011636",
     "status": "completed"
    },
    "tags": []
   },
   "outputs": [
    {
     "name": "stdout",
     "output_type": "stream",
     "text": [
      "              precision    recall  f1-score   support\n",
      "\n",
      "           0       0.95      1.00      0.97       432\n",
      "           1       1.00      0.91      0.95       280\n",
      "\n",
      "    accuracy                           0.96       712\n",
      "   macro avg       0.97      0.96      0.96       712\n",
      "weighted avg       0.97      0.96      0.96       712\n",
      "\n",
      "              precision    recall  f1-score   support\n",
      "\n",
      "           0       0.90      0.93      0.92       117\n",
      "           1       0.86      0.81      0.83        62\n",
      "\n",
      "    accuracy                           0.89       179\n",
      "   macro avg       0.88      0.87      0.87       179\n",
      "weighted avg       0.89      0.89      0.89       179\n",
      "\n"
     ]
    },
    {
     "data": {
      "image/png": "[encoded data removed]",
      "text/plain": [
       "<Figure size 432x288 with 2 Axes>"
      ]
     },
     "metadata": {
      "needs_background": "light"
     },
     "output_type": "display_data"
    }
   ],
   "source": [
    "from sklearn.ensemble import RandomForestClassifier\n",
    "dtc = RandomForestClassifier(max_depth=10,random_state=101,n_estimators=500)\n",
    "dtc.fit(x_train,y_train)\n",
    "y_pred = dtc.predict(x_test)\n",
    "con_mat = confusion_matrix(y_test,y_pred)\n",
    "sns.heatmap(con_mat,annot = True)\n",
    "print(classification_report(y_train,dtc.predict(x_train)))\n",
    "print(classification_report(y_test,y_pred))"
   ]
  },
  {
   "cell_type": "code",
   "execution_count": 32,
   "id": "86fe84a9",
   "metadata": {
    "execution": {
     "iopub.execute_input": "2021-12-14T18:49:00.691334Z",
     "iopub.status.busy": "2021-12-14T18:49:00.690383Z",
     "iopub.status.idle": "2021-12-14T18:49:43.394471Z",
     "shell.execute_reply": "2021-12-14T18:49:43.394985Z",
     "shell.execute_reply.started": "2021-12-14T18:09:11.520866Z"
    },
    "papermill": {
     "duration": 42.774181,
     "end_time": "2021-12-14T18:49:43.395163",
     "exception": false,
     "start_time": "2021-12-14T18:49:00.620982",
     "status": "completed"
    },
    "tags": []
   },
   "outputs": [
    {
     "data": {
      "text/plain": [
       "GridSearchCV(cv=5,\n",
       "             estimator=RandomForestClassifier(max_depth=10, n_estimators=500,\n",
       "                                              random_state=101),\n",
       "             param_grid={'max_depth': [13, 15, 17, 20],\n",
       "                         'n_estimators': [100, 300, 500]},\n",
       "             scoring='f1_macro')"
      ]
     },
     "execution_count": 32,
     "metadata": {},
     "output_type": "execute_result"
    }
   ],
   "source": [
    "from sklearn.model_selection import GridSearchCV\n",
    "gsv = GridSearchCV(dtc,{'max_depth':[13,15,17,20],'n_estimators':[100,300,500]},cv=5,scoring='f1_macro')\n",
    "gsv.fit(x,y)"
   ]
  },
  {
   "cell_type": "code",
   "execution_count": 33,
   "id": "3cac6cf6",
   "metadata": {
    "execution": {
     "iopub.execute_input": "2021-12-14T18:49:43.519582Z",
     "iopub.status.busy": "2021-12-14T18:49:43.518981Z",
     "iopub.status.idle": "2021-12-14T18:49:43.523678Z",
     "shell.execute_reply": "2021-12-14T18:49:43.523123Z",
     "shell.execute_reply.started": "2021-12-14T18:09:57.782090Z"
    },
    "papermill": {
     "duration": 0.067622,
     "end_time": "2021-12-14T18:49:43.523839",
     "exception": false,
     "start_time": "2021-12-14T18:49:43.456217",
     "status": "completed"
    },
    "tags": []
   },
   "outputs": [
    {
     "name": "stdout",
     "output_type": "stream",
     "text": [
      "0.8229875391892275\n",
      "{'max_depth': 15, 'n_estimators': 300}\n"
     ]
    }
   ],
   "source": [
    "print(gsv.best_score_)\n",
    "print(gsv.best_params_)"
   ]
  },
  {
   "cell_type": "code",
   "execution_count": 34,
   "id": "f4d09726",
   "metadata": {
    "execution": {
     "iopub.execute_input": "2021-12-14T18:49:43.649410Z",
     "iopub.status.busy": "2021-12-14T18:49:43.648827Z",
     "iopub.status.idle": "2021-12-14T18:49:44.641253Z",
     "shell.execute_reply": "2021-12-14T18:49:44.641725Z",
     "shell.execute_reply.started": "2021-12-14T18:09:57.791189Z"
    },
    "papermill": {
     "duration": 1.057286,
     "end_time": "2021-12-14T18:49:44.641886",
     "exception": false,
     "start_time": "2021-12-14T18:49:43.584600",
     "status": "completed"
    },
    "tags": []
   },
   "outputs": [
    {
     "name": "stdout",
     "output_type": "stream",
     "text": [
      "              precision    recall  f1-score   support\n",
      "\n",
      "           0       1.00      1.00      1.00       432\n",
      "           1       1.00      1.00      1.00       280\n",
      "\n",
      "    accuracy                           1.00       712\n",
      "   macro avg       1.00      1.00      1.00       712\n",
      "weighted avg       1.00      1.00      1.00       712\n",
      "\n",
      "              precision    recall  f1-score   support\n",
      "\n",
      "           0       0.89      0.88      0.88       117\n",
      "           1       0.78      0.79      0.78        62\n",
      "\n",
      "    accuracy                           0.85       179\n",
      "   macro avg       0.83      0.84      0.83       179\n",
      "weighted avg       0.85      0.85      0.85       179\n",
      "\n"
     ]
    },
    {
     "data": {
      "image/png": "[encoded data removed]",
      "text/plain": [
       "<Figure size 432x288 with 2 Axes>"
      ]
     },
     "metadata": {
      "needs_background": "light"
     },
     "output_type": "display_data"
    }
   ],
   "source": [
    "dtc = RandomForestClassifier(max_depth=15,random_state=101,n_estimators=300)\n",
    "dtc.fit(x_train,y_train)\n",
    "y_pred = dtc.predict(x_test)\n",
    "con_mat = confusion_matrix(y_test,y_pred)\n",
    "sns.heatmap(con_mat,annot = True)\n",
    "print(classification_report(y_train,dtc.predict(x_train)))\n",
    "print(classification_report(y_test,y_pred))"
   ]
  },
  {
   "cell_type": "code",
   "execution_count": 35,
   "id": "45af386c",
   "metadata": {
    "execution": {
     "iopub.execute_input": "2021-12-14T18:49:44.773392Z",
     "iopub.status.busy": "2021-12-14T18:49:44.772775Z",
     "iopub.status.idle": "2021-12-14T18:49:44.803580Z",
     "shell.execute_reply": "2021-12-14T18:49:44.802992Z",
     "shell.execute_reply.started": "2021-12-14T18:45:07.823321Z"
    },
    "papermill": {
     "duration": 0.098537,
     "end_time": "2021-12-14T18:49:44.803709",
     "exception": false,
     "start_time": "2021-12-14T18:49:44.705172",
     "status": "completed"
    },
    "tags": []
   },
   "outputs": [
    {
     "data": {
      "text/html": [
       "<div>\n",
       "<style scoped>\n",
       "    .dataframe tbody tr th:only-of-type {\n",
       "        vertical-align: middle;\n",
       "    }\n",
       "\n",
       "    .dataframe tbody tr th {\n",
       "        vertical-align: top;\n",
       "    }\n",
       "\n",
       "    .dataframe thead th {\n",
       "        text-align: right;\n",
       "    }\n",
       "</style>\n",
       "<table border=\"1\" class=\"dataframe\">\n",
       "  <thead>\n",
       "    <tr style=\"text-align: right;\">\n",
       "      <th></th>\n",
       "      <th>PassengerId</th>\n",
       "      <th>Pclass</th>\n",
       "      <th>Name</th>\n",
       "      <th>Sex</th>\n",
       "      <th>Age</th>\n",
       "      <th>SibSp</th>\n",
       "      <th>Parch</th>\n",
       "      <th>Ticket</th>\n",
       "      <th>Fare</th>\n",
       "      <th>Cabin</th>\n",
       "      <th>Embarked</th>\n",
       "    </tr>\n",
       "  </thead>\n",
       "  <tbody>\n",
       "    <tr>\n",
       "      <th>0</th>\n",
       "      <td>892</td>\n",
       "      <td>3</td>\n",
       "      <td>Kelly, Mr. James</td>\n",
       "      <td>0</td>\n",
       "      <td>34.5</td>\n",
       "      <td>0</td>\n",
       "      <td>0</td>\n",
       "      <td>330911</td>\n",
       "      <td>7.8292</td>\n",
       "      <td>NaN</td>\n",
       "      <td>1</td>\n",
       "    </tr>\n",
       "    <tr>\n",
       "      <th>1</th>\n",
       "      <td>893</td>\n",
       "      <td>3</td>\n",
       "      <td>Wilkes, Mrs. James (Ellen Needs)</td>\n",
       "      <td>1</td>\n",
       "      <td>47.0</td>\n",
       "      <td>1</td>\n",
       "      <td>0</td>\n",
       "      <td>363272</td>\n",
       "      <td>7.0000</td>\n",
       "      <td>NaN</td>\n",
       "      <td>2</td>\n",
       "    </tr>\n",
       "    <tr>\n",
       "      <th>2</th>\n",
       "      <td>894</td>\n",
       "      <td>2</td>\n",
       "      <td>Myles, Mr. Thomas Francis</td>\n",
       "      <td>0</td>\n",
       "      <td>62.0</td>\n",
       "      <td>0</td>\n",
       "      <td>0</td>\n",
       "      <td>240276</td>\n",
       "      <td>9.6875</td>\n",
       "      <td>NaN</td>\n",
       "      <td>1</td>\n",
       "    </tr>\n",
       "    <tr>\n",
       "      <th>3</th>\n",
       "      <td>895</td>\n",
       "      <td>3</td>\n",
       "      <td>Wirz, Mr. Albert</td>\n",
       "      <td>0</td>\n",
       "      <td>27.0</td>\n",
       "      <td>0</td>\n",
       "      <td>0</td>\n",
       "      <td>315154</td>\n",
       "      <td>8.6625</td>\n",
       "      <td>NaN</td>\n",
       "      <td>2</td>\n",
       "    </tr>\n",
       "    <tr>\n",
       "      <th>4</th>\n",
       "      <td>896</td>\n",
       "      <td>3</td>\n",
       "      <td>Hirvonen, Mrs. Alexander (Helga E Lindqvist)</td>\n",
       "      <td>1</td>\n",
       "      <td>22.0</td>\n",
       "      <td>1</td>\n",
       "      <td>1</td>\n",
       "      <td>3101298</td>\n",
       "      <td>12.2875</td>\n",
       "      <td>NaN</td>\n",
       "      <td>2</td>\n",
       "    </tr>\n",
       "  </tbody>\n",
       "</table>\n",
       "</div>"
      ],
      "text/plain": [
       "   PassengerId  Pclass                                          Name  Sex  \\\n",
       "0          892       3                              Kelly, Mr. James    0   \n",
       "1          893       3              Wilkes, Mrs. James (Ellen Needs)    1   \n",
       "2          894       2                     Myles, Mr. Thomas Francis    0   \n",
       "3          895       3                              Wirz, Mr. Albert    0   \n",
       "4          896       3  Hirvonen, Mrs. Alexander (Helga E Lindqvist)    1   \n",
       "\n",
       "    Age  SibSp  Parch   Ticket     Fare Cabin  Embarked  \n",
       "0  34.5      0      0   330911   7.8292   NaN         1  \n",
       "1  47.0      1      0   363272   7.0000   NaN         2  \n",
       "2  62.0      0      0   240276   9.6875   NaN         1  \n",
       "3  27.0      0      0   315154   8.6625   NaN         2  \n",
       "4  22.0      1      1  3101298  12.2875   NaN         2  "
      ]
     },
     "execution_count": 35,
     "metadata": {},
     "output_type": "execute_result"
    }
   ],
   "source": [
    "df_test = pd.read_csv('/kaggle/input/titanic/test.csv')\n",
    "df_test['Sex'].replace(['male','female'],[0,1],inplace=True)\n",
    "df_test['Embarked'].replace(['C','Q','S'],[0,1,2],inplace=True)\n",
    "df_test.head()"
   ]
  },
  {
   "cell_type": "code",
   "execution_count": 36,
   "id": "31288467",
   "metadata": {
    "execution": {
     "iopub.execute_input": "2021-12-14T18:49:44.935327Z",
     "iopub.status.busy": "2021-12-14T18:49:44.934540Z",
     "iopub.status.idle": "2021-12-14T18:49:44.948301Z",
     "shell.execute_reply": "2021-12-14T18:49:44.947751Z",
     "shell.execute_reply.started": "2021-12-14T18:45:08.846325Z"
    },
    "papermill": {
     "duration": 0.080069,
     "end_time": "2021-12-14T18:49:44.948455",
     "exception": false,
     "start_time": "2021-12-14T18:49:44.868386",
     "status": "completed"
    },
    "tags": []
   },
   "outputs": [
    {
     "name": "stdout",
     "output_type": "stream",
     "text": [
      "<class 'pandas.core.frame.DataFrame'>\n",
      "RangeIndex: 418 entries, 0 to 417\n",
      "Data columns (total 11 columns):\n",
      " #   Column       Non-Null Count  Dtype  \n",
      "---  ------       --------------  -----  \n",
      " 0   PassengerId  418 non-null    int64  \n",
      " 1   Pclass       418 non-null    int64  \n",
      " 2   Name         418 non-null    object \n",
      " 3   Sex          418 non-null    int64  \n",
      " 4   Age          332 non-null    float64\n",
      " 5   SibSp        418 non-null    int64  \n",
      " 6   Parch        418 non-null    int64  \n",
      " 7   Ticket       418 non-null    object \n",
      " 8   Fare         417 non-null    float64\n",
      " 9   Cabin        91 non-null     object \n",
      " 10  Embarked     418 non-null    int64  \n",
      "dtypes: float64(2), int64(6), object(3)\n",
      "memory usage: 36.0+ KB\n"
     ]
    }
   ],
   "source": [
    "df_test.info()"
   ]
  },
  {
   "cell_type": "code",
   "execution_count": 37,
   "id": "2ad94706",
   "metadata": {
    "execution": {
     "iopub.execute_input": "2021-12-14T18:49:45.097442Z",
     "iopub.status.busy": "2021-12-14T18:49:45.092288Z",
     "iopub.status.idle": "2021-12-14T18:49:45.111178Z",
     "shell.execute_reply": "2021-12-14T18:49:45.111750Z",
     "shell.execute_reply.started": "2021-12-14T18:45:11.292110Z"
    },
    "papermill": {
     "duration": 0.096219,
     "end_time": "2021-12-14T18:49:45.111918",
     "exception": false,
     "start_time": "2021-12-14T18:49:45.015699",
     "status": "completed"
    },
    "tags": []
   },
   "outputs": [],
   "source": [
    "ticket_arr = np.zeros((df_test.shape[0]))\n",
    "for i in range(df_test['Ticket'].shape[0]):\n",
    "    if type(df_test['Ticket'][i]) == np.float64:\n",
    "        ticket_arr[i] = df_test.iloc[i,7]\n",
    "    else:\n",
    "        str_list = df_test.iloc[i,7].split()\n",
    "        try:\n",
    "            ticket_arr[i] = float(str_list[-1])\n",
    "        except:\n",
    "            ticket_arr[i] = np.NaN\n",
    "df_test['Ticket'] = pd.Series(ticket_arr)\n",
    "df_test['Ticket'] = (df_test['Ticket'].ffill() + df_test['Ticket'].bfill())/2"
   ]
  },
  {
   "cell_type": "code",
   "execution_count": 38,
   "id": "109647e8",
   "metadata": {
    "execution": {
     "iopub.execute_input": "2021-12-14T18:49:45.249080Z",
     "iopub.status.busy": "2021-12-14T18:49:45.248355Z",
     "iopub.status.idle": "2021-12-14T18:49:45.250555Z",
     "shell.execute_reply": "2021-12-14T18:49:45.251074Z",
     "shell.execute_reply.started": "2021-12-14T18:45:13.032950Z"
    },
    "papermill": {
     "duration": 0.074135,
     "end_time": "2021-12-14T18:49:45.251229",
     "exception": false,
     "start_time": "2021-12-14T18:49:45.177094",
     "status": "completed"
    },
    "tags": []
   },
   "outputs": [],
   "source": [
    "df_test['Age'] = (df_test['Age'].ffill() + df_test['Age'].bfill())/2\n",
    "df_test['Fare'] = df_test['Fare'].fillna(df_test['Fare'].median())"
   ]
  },
  {
   "cell_type": "code",
   "execution_count": 39,
   "id": "59c2a0d6",
   "metadata": {
    "execution": {
     "iopub.execute_input": "2021-12-14T18:49:45.383171Z",
     "iopub.status.busy": "2021-12-14T18:49:45.382574Z",
     "iopub.status.idle": "2021-12-14T18:49:45.386512Z",
     "shell.execute_reply": "2021-12-14T18:49:45.387106Z",
     "shell.execute_reply.started": "2021-12-14T18:45:43.184774Z"
    },
    "papermill": {
     "duration": 0.070949,
     "end_time": "2021-12-14T18:49:45.387286",
     "exception": false,
     "start_time": "2021-12-14T18:49:45.316337",
     "status": "completed"
    },
    "tags": []
   },
   "outputs": [],
   "source": [
    "df_test['Age'].fillna(df_test['Age'].mean(),inplace=True)"
   ]
  },
  {
   "cell_type": "code",
   "execution_count": 40,
   "id": "1b0a8fa0",
   "metadata": {
    "execution": {
     "iopub.execute_input": "2021-12-14T18:49:45.519889Z",
     "iopub.status.busy": "2021-12-14T18:49:45.519305Z",
     "iopub.status.idle": "2021-12-14T18:49:45.530682Z",
     "shell.execute_reply": "2021-12-14T18:49:45.531365Z",
     "shell.execute_reply.started": "2021-12-14T18:45:44.843515Z"
    },
    "papermill": {
     "duration": 0.080024,
     "end_time": "2021-12-14T18:49:45.531605",
     "exception": false,
     "start_time": "2021-12-14T18:49:45.451581",
     "status": "completed"
    },
    "tags": []
   },
   "outputs": [
    {
     "name": "stdout",
     "output_type": "stream",
     "text": [
      "<class 'pandas.core.frame.DataFrame'>\n",
      "RangeIndex: 418 entries, 0 to 417\n",
      "Data columns (total 11 columns):\n",
      " #   Column       Non-Null Count  Dtype  \n",
      "---  ------       --------------  -----  \n",
      " 0   PassengerId  418 non-null    int64  \n",
      " 1   Pclass       418 non-null    int64  \n",
      " 2   Name         418 non-null    object \n",
      " 3   Sex          418 non-null    int64  \n",
      " 4   Age          418 non-null    float64\n",
      " 5   SibSp        418 non-null    int64  \n",
      " 6   Parch        418 non-null    int64  \n",
      " 7   Ticket       418 non-null    float64\n",
      " 8   Fare         418 non-null    float64\n",
      " 9   Cabin        91 non-null     object \n",
      " 10  Embarked     418 non-null    int64  \n",
      "dtypes: float64(3), int64(6), object(2)\n",
      "memory usage: 36.0+ KB\n"
     ]
    }
   ],
   "source": [
    "df_test.info()"
   ]
  },
  {
   "cell_type": "code",
   "execution_count": 41,
   "id": "953d63e2",
   "metadata": {
    "execution": {
     "iopub.execute_input": "2021-12-14T18:49:45.667560Z",
     "iopub.status.busy": "2021-12-14T18:49:45.666992Z",
     "iopub.status.idle": "2021-12-14T18:49:45.668745Z",
     "shell.execute_reply": "2021-12-14T18:49:45.669330Z",
     "shell.execute_reply.started": "2021-12-14T18:45:45.701719Z"
    },
    "papermill": {
     "duration": 0.072054,
     "end_time": "2021-12-14T18:49:45.669484",
     "exception": false,
     "start_time": "2021-12-14T18:49:45.597430",
     "status": "completed"
    },
    "tags": []
   },
   "outputs": [],
   "source": [
    "df_test['Ticket'] = np.log(df_test['Ticket'])\n",
    "df_test['Fare'] = np.log(df_test['Fare']+1)"
   ]
  },
  {
   "cell_type": "code",
   "execution_count": 42,
   "id": "7dedea39",
   "metadata": {
    "execution": {
     "iopub.execute_input": "2021-12-14T18:49:45.802977Z",
     "iopub.status.busy": "2021-12-14T18:49:45.802399Z",
     "iopub.status.idle": "2021-12-14T18:49:45.815126Z",
     "shell.execute_reply": "2021-12-14T18:49:45.815679Z",
     "shell.execute_reply.started": "2021-12-14T18:45:47.671065Z"
    },
    "papermill": {
     "duration": 0.082301,
     "end_time": "2021-12-14T18:49:45.815840",
     "exception": false,
     "start_time": "2021-12-14T18:49:45.733539",
     "status": "completed"
    },
    "tags": []
   },
   "outputs": [
    {
     "data": {
      "text/html": [
       "<div>\n",
       "<style scoped>\n",
       "    .dataframe tbody tr th:only-of-type {\n",
       "        vertical-align: middle;\n",
       "    }\n",
       "\n",
       "    .dataframe tbody tr th {\n",
       "        vertical-align: top;\n",
       "    }\n",
       "\n",
       "    .dataframe thead th {\n",
       "        text-align: right;\n",
       "    }\n",
       "</style>\n",
       "<table border=\"1\" class=\"dataframe\">\n",
       "  <thead>\n",
       "    <tr style=\"text-align: right;\">\n",
       "      <th></th>\n",
       "      <th>PassengerId</th>\n",
       "      <th>Pclass</th>\n",
       "      <th>Name</th>\n",
       "      <th>Sex</th>\n",
       "      <th>Age</th>\n",
       "      <th>SibSp</th>\n",
       "      <th>Parch</th>\n",
       "      <th>Ticket</th>\n",
       "      <th>Fare</th>\n",
       "      <th>Cabin</th>\n",
       "      <th>Embarked</th>\n",
       "    </tr>\n",
       "  </thead>\n",
       "  <tbody>\n",
       "    <tr>\n",
       "      <th>0</th>\n",
       "      <td>892</td>\n",
       "      <td>3</td>\n",
       "      <td>Kelly, Mr. James</td>\n",
       "      <td>0</td>\n",
       "      <td>34.5</td>\n",
       "      <td>0</td>\n",
       "      <td>0</td>\n",
       "      <td>12.709605</td>\n",
       "      <td>2.178064</td>\n",
       "      <td>NaN</td>\n",
       "      <td>1</td>\n",
       "    </tr>\n",
       "    <tr>\n",
       "      <th>1</th>\n",
       "      <td>893</td>\n",
       "      <td>3</td>\n",
       "      <td>Wilkes, Mrs. James (Ellen Needs)</td>\n",
       "      <td>1</td>\n",
       "      <td>47.0</td>\n",
       "      <td>1</td>\n",
       "      <td>0</td>\n",
       "      <td>12.802907</td>\n",
       "      <td>2.079442</td>\n",
       "      <td>NaN</td>\n",
       "      <td>2</td>\n",
       "    </tr>\n",
       "    <tr>\n",
       "      <th>2</th>\n",
       "      <td>894</td>\n",
       "      <td>2</td>\n",
       "      <td>Myles, Mr. Thomas Francis</td>\n",
       "      <td>0</td>\n",
       "      <td>62.0</td>\n",
       "      <td>0</td>\n",
       "      <td>0</td>\n",
       "      <td>12.389544</td>\n",
       "      <td>2.369075</td>\n",
       "      <td>NaN</td>\n",
       "      <td>1</td>\n",
       "    </tr>\n",
       "    <tr>\n",
       "      <th>3</th>\n",
       "      <td>895</td>\n",
       "      <td>3</td>\n",
       "      <td>Wirz, Mr. Albert</td>\n",
       "      <td>0</td>\n",
       "      <td>27.0</td>\n",
       "      <td>0</td>\n",
       "      <td>0</td>\n",
       "      <td>12.660817</td>\n",
       "      <td>2.268252</td>\n",
       "      <td>NaN</td>\n",
       "      <td>2</td>\n",
       "    </tr>\n",
       "    <tr>\n",
       "      <th>4</th>\n",
       "      <td>896</td>\n",
       "      <td>3</td>\n",
       "      <td>Hirvonen, Mrs. Alexander (Helga E Lindqvist)</td>\n",
       "      <td>1</td>\n",
       "      <td>22.0</td>\n",
       "      <td>1</td>\n",
       "      <td>1</td>\n",
       "      <td>14.947331</td>\n",
       "      <td>2.586824</td>\n",
       "      <td>NaN</td>\n",
       "      <td>2</td>\n",
       "    </tr>\n",
       "  </tbody>\n",
       "</table>\n",
       "</div>"
      ],
      "text/plain": [
       "   PassengerId  Pclass                                          Name  Sex  \\\n",
       "0          892       3                              Kelly, Mr. James    0   \n",
       "1          893       3              Wilkes, Mrs. James (Ellen Needs)    1   \n",
       "2          894       2                     Myles, Mr. Thomas Francis    0   \n",
       "3          895       3                              Wirz, Mr. Albert    0   \n",
       "4          896       3  Hirvonen, Mrs. Alexander (Helga E Lindqvist)    1   \n",
       "\n",
       "    Age  SibSp  Parch     Ticket      Fare Cabin  Embarked  \n",
       "0  34.5      0      0  12.709605  2.178064   NaN         1  \n",
       "1  47.0      1      0  12.802907  2.079442   NaN         2  \n",
       "2  62.0      0      0  12.389544  2.369075   NaN         1  \n",
       "3  27.0      0      0  12.660817  2.268252   NaN         2  \n",
       "4  22.0      1      1  14.947331  2.586824   NaN         2  "
      ]
     },
     "execution_count": 42,
     "metadata": {},
     "output_type": "execute_result"
    }
   ],
   "source": [
    "df_test.head()"
   ]
  },
  {
   "cell_type": "code",
   "execution_count": 43,
   "id": "219bc814",
   "metadata": {
    "execution": {
     "iopub.execute_input": "2021-12-14T18:49:45.950489Z",
     "iopub.status.busy": "2021-12-14T18:49:45.949894Z",
     "iopub.status.idle": "2021-12-14T18:49:45.961171Z",
     "shell.execute_reply": "2021-12-14T18:49:45.961670Z",
     "shell.execute_reply.started": "2021-12-14T18:45:56.203085Z"
    },
    "papermill": {
     "duration": 0.079881,
     "end_time": "2021-12-14T18:49:45.961832",
     "exception": false,
     "start_time": "2021-12-14T18:49:45.881951",
     "status": "completed"
    },
    "tags": []
   },
   "outputs": [
    {
     "name": "stdout",
     "output_type": "stream",
     "text": [
      "<class 'pandas.core.frame.DataFrame'>\n",
      "RangeIndex: 418 entries, 0 to 417\n",
      "Data columns (total 11 columns):\n",
      " #   Column       Non-Null Count  Dtype  \n",
      "---  ------       --------------  -----  \n",
      " 0   PassengerId  418 non-null    int64  \n",
      " 1   Pclass       418 non-null    int64  \n",
      " 2   Name         418 non-null    object \n",
      " 3   Sex          418 non-null    int64  \n",
      " 4   Age          418 non-null    float64\n",
      " 5   SibSp        418 non-null    int64  \n",
      " 6   Parch        418 non-null    int64  \n",
      " 7   Ticket       418 non-null    float64\n",
      " 8   Fare         418 non-null    float64\n",
      " 9   Cabin        91 non-null     object \n",
      " 10  Embarked     418 non-null    int64  \n",
      "dtypes: float64(3), int64(6), object(2)\n",
      "memory usage: 36.0+ KB\n"
     ]
    }
   ],
   "source": [
    "df_test.info()"
   ]
  },
  {
   "cell_type": "code",
   "execution_count": 44,
   "id": "42926dfd",
   "metadata": {
    "execution": {
     "iopub.execute_input": "2021-12-14T18:49:46.096672Z",
     "iopub.status.busy": "2021-12-14T18:49:46.096011Z",
     "iopub.status.idle": "2021-12-14T18:49:46.146701Z",
     "shell.execute_reply": "2021-12-14T18:49:46.147139Z",
     "shell.execute_reply.started": "2021-12-14T18:46:39.044542Z"
    },
    "papermill": {
     "duration": 0.119727,
     "end_time": "2021-12-14T18:49:46.147315",
     "exception": false,
     "start_time": "2021-12-14T18:49:46.027588",
     "status": "completed"
    },
    "tags": []
   },
   "outputs": [
    {
     "name": "stdout",
     "output_type": "stream",
     "text": [
      "[0 1 0 0 1 0 1 0 1 0 0 0 1 0 1 1 0 0 1 1 0 0 1 0 1 0 1 0 0 0 0 0 0 0 0 0 1\n",
      " 1 0 0 0 0 0 1 1 0 0 0 1 0 0 0 1 1 0 0 0 0 0 1 0 0 0 1 0 1 1 0 0 1 1 0 1 0\n",
      " 1 0 0 1 0 1 0 0 0 0 0 0 1 1 1 0 1 0 1 0 0 0 1 0 1 0 1 0 0 0 1 0 0 0 0 0 0\n",
      " 1 1 1 1 0 0 1 0 1 1 0 1 0 0 1 0 1 0 0 0 0 0 0 0 0 0 0 1 0 0 1 0 0 0 0 0 0\n",
      " 0 0 1 0 0 1 0 0 1 1 0 1 1 0 1 0 0 1 0 0 1 1 0 0 0 0 0 1 1 0 1 1 0 0 1 0 1\n",
      " 0 1 0 0 0 0 0 0 0 0 0 0 1 0 1 1 0 0 1 0 0 1 0 1 0 0 0 0 1 0 0 1 0 1 0 1 0\n",
      " 1 0 1 1 0 1 0 0 0 1 0 0 0 0 0 0 1 1 1 1 0 0 0 0 1 0 1 1 1 0 0 0 0 0 0 0 1\n",
      " 0 0 0 1 1 0 0 1 0 1 0 0 0 1 1 0 1 0 0 0 0 1 0 1 1 1 0 0 0 0 0 0 1 0 0 0 0\n",
      " 1 0 0 0 0 0 0 0 1 1 0 0 0 1 0 0 0 1 1 1 0 0 0 0 0 0 0 0 1 0 1 0 0 0 1 0 0\n",
      " 1 0 0 0 0 0 0 0 0 0 1 0 1 0 1 0 1 1 0 0 0 1 0 1 0 0 1 0 1 1 0 1 0 0 1 1 0\n",
      " 0 1 1 0 1 1 1 0 0 0 0 0 1 1 0 1 0 0 0 0 0 1 0 0 0 1 0 1 0 0 1 0 1 0 0 0 0\n",
      " 0 1 1 1 1 1 0 1 0 0 0]\n"
     ]
    }
   ],
   "source": [
    "x_sub = df_test[['Pclass','Sex','Age','SibSp','Parch','Fare','Embarked','Ticket']]\n",
    "x_sub = ss.fit_transform(x_sub)\n",
    "y_sub = dtc.predict(x_sub)\n",
    "print(y_sub)"
   ]
  },
  {
   "cell_type": "code",
   "execution_count": 45,
   "id": "4cf67a5e",
   "metadata": {
    "execution": {
     "iopub.execute_input": "2021-12-14T18:49:46.285147Z",
     "iopub.status.busy": "2021-12-14T18:49:46.284526Z",
     "iopub.status.idle": "2021-12-14T18:49:46.293982Z",
     "shell.execute_reply": "2021-12-14T18:49:46.294515Z",
     "shell.execute_reply.started": "2021-12-14T18:46:45.373083Z"
    },
    "papermill": {
     "duration": 0.079265,
     "end_time": "2021-12-14T18:49:46.294706",
     "exception": false,
     "start_time": "2021-12-14T18:49:46.215441",
     "status": "completed"
    },
    "tags": []
   },
   "outputs": [
    {
     "data": {
      "text/html": [
       "<div>\n",
       "<style scoped>\n",
       "    .dataframe tbody tr th:only-of-type {\n",
       "        vertical-align: middle;\n",
       "    }\n",
       "\n",
       "    .dataframe tbody tr th {\n",
       "        vertical-align: top;\n",
       "    }\n",
       "\n",
       "    .dataframe thead th {\n",
       "        text-align: right;\n",
       "    }\n",
       "</style>\n",
       "<table border=\"1\" class=\"dataframe\">\n",
       "  <thead>\n",
       "    <tr style=\"text-align: right;\">\n",
       "      <th></th>\n",
       "      <th>PassengerId</th>\n",
       "      <th>Survived</th>\n",
       "    </tr>\n",
       "  </thead>\n",
       "  <tbody>\n",
       "    <tr>\n",
       "      <th>0</th>\n",
       "      <td>892</td>\n",
       "      <td>0</td>\n",
       "    </tr>\n",
       "    <tr>\n",
       "      <th>1</th>\n",
       "      <td>893</td>\n",
       "      <td>1</td>\n",
       "    </tr>\n",
       "    <tr>\n",
       "      <th>2</th>\n",
       "      <td>894</td>\n",
       "      <td>0</td>\n",
       "    </tr>\n",
       "    <tr>\n",
       "      <th>3</th>\n",
       "      <td>895</td>\n",
       "      <td>0</td>\n",
       "    </tr>\n",
       "    <tr>\n",
       "      <th>4</th>\n",
       "      <td>896</td>\n",
       "      <td>1</td>\n",
       "    </tr>\n",
       "  </tbody>\n",
       "</table>\n",
       "</div>"
      ],
      "text/plain": [
       "   PassengerId  Survived\n",
       "0          892         0\n",
       "1          893         1\n",
       "2          894         0\n",
       "3          895         0\n",
       "4          896         1"
      ]
     },
     "execution_count": 45,
     "metadata": {},
     "output_type": "execute_result"
    }
   ],
   "source": [
    "df_sub = pd.DataFrame(y_sub,columns=['Survived'])\n",
    "df_sub = pd.concat([df_test['PassengerId'],df_sub['Survived']],axis=1)\n",
    "df_sub.head()"
   ]
  },
  {
   "cell_type": "code",
   "execution_count": 46,
   "id": "c26bbb35",
   "metadata": {
    "execution": {
     "iopub.execute_input": "2021-12-14T18:49:46.433398Z",
     "iopub.status.busy": "2021-12-14T18:49:46.432724Z",
     "iopub.status.idle": "2021-12-14T18:49:46.447714Z",
     "shell.execute_reply": "2021-12-14T18:49:46.448252Z",
     "shell.execute_reply.started": "2021-12-14T18:46:49.204046Z"
    },
    "papermill": {
     "duration": 0.085627,
     "end_time": "2021-12-14T18:49:46.448442",
     "exception": false,
     "start_time": "2021-12-14T18:49:46.362815",
     "status": "completed"
    },
    "tags": []
   },
   "outputs": [
    {
     "data": {
      "text/html": [
       "<div>\n",
       "<style scoped>\n",
       "    .dataframe tbody tr th:only-of-type {\n",
       "        vertical-align: middle;\n",
       "    }\n",
       "\n",
       "    .dataframe tbody tr th {\n",
       "        vertical-align: top;\n",
       "    }\n",
       "\n",
       "    .dataframe thead th {\n",
       "        text-align: right;\n",
       "    }\n",
       "</style>\n",
       "<table border=\"1\" class=\"dataframe\">\n",
       "  <thead>\n",
       "    <tr style=\"text-align: right;\">\n",
       "      <th></th>\n",
       "      <th>PassengerId</th>\n",
       "      <th>Survived</th>\n",
       "    </tr>\n",
       "  </thead>\n",
       "  <tbody>\n",
       "    <tr>\n",
       "      <th>0</th>\n",
       "      <td>892</td>\n",
       "      <td>0</td>\n",
       "    </tr>\n",
       "    <tr>\n",
       "      <th>1</th>\n",
       "      <td>893</td>\n",
       "      <td>1</td>\n",
       "    </tr>\n",
       "    <tr>\n",
       "      <th>2</th>\n",
       "      <td>894</td>\n",
       "      <td>0</td>\n",
       "    </tr>\n",
       "    <tr>\n",
       "      <th>3</th>\n",
       "      <td>895</td>\n",
       "      <td>0</td>\n",
       "    </tr>\n",
       "    <tr>\n",
       "      <th>4</th>\n",
       "      <td>896</td>\n",
       "      <td>1</td>\n",
       "    </tr>\n",
       "  </tbody>\n",
       "</table>\n",
       "</div>"
      ],
      "text/plain": [
       "   PassengerId  Survived\n",
       "0          892         0\n",
       "1          893         1\n",
       "2          894         0\n",
       "3          895         0\n",
       "4          896         1"
      ]
     },
     "execution_count": 46,
     "metadata": {},
     "output_type": "execute_result"
    }
   ],
   "source": [
    "df_sample = pd.read_csv('/kaggle/input/titanic/gender_submission.csv')\n",
    "df_sample.head()"
   ]
  },
  {
   "cell_type": "code",
   "execution_count": 47,
   "id": "de3f69d5",
   "metadata": {
    "execution": {
     "iopub.execute_input": "2021-12-14T18:49:46.587530Z",
     "iopub.status.busy": "2021-12-14T18:49:46.586889Z",
     "iopub.status.idle": "2021-12-14T18:49:46.593545Z",
     "shell.execute_reply": "2021-12-14T18:49:46.594032Z",
     "shell.execute_reply.started": "2021-12-14T18:46:50.512553Z"
    },
    "papermill": {
     "duration": 0.077193,
     "end_time": "2021-12-14T18:49:46.594205",
     "exception": false,
     "start_time": "2021-12-14T18:49:46.517012",
     "status": "completed"
    },
    "tags": []
   },
   "outputs": [],
   "source": [
    "df_sub.to_csv('Submission.csv',index=False)"
   ]
  },
  {
   "cell_type": "markdown",
   "id": "bcb95169",
   "metadata": {
    "papermill": {
     "duration": 0.067418,
     "end_time": "2021-12-14T18:49:46.729703",
     "exception": false,
     "start_time": "2021-12-14T18:49:46.662285",
     "status": "completed"
    },
    "tags": []
   },
   "source": []
  },
  {
   "cell_type": "code",
   "execution_count": null,
   "id": "5fe9e450",
   "metadata": {
    "papermill": {
     "duration": 0.069451,
     "end_time": "2021-12-14T18:49:46.866904",
     "exception": false,
     "start_time": "2021-12-14T18:49:46.797453",
     "status": "completed"
    },
    "tags": []
   },
   "outputs": [],
   "source": []
  },
  {
   "cell_type": "code",
   "execution_count": null,
   "id": "9084cf3c",
   "metadata": {
    "papermill": {
     "duration": 0.068154,
     "end_time": "2021-12-14T18:49:47.005499",
     "exception": false,
     "start_time": "2021-12-14T18:49:46.937345",
     "status": "completed"
    },
    "tags": []
   },
   "outputs": [],
   "source": []
  }
 ],
 "metadata": {
  "kernelspec": {
   "display_name": "Python 3",
   "language": "python",
   "name": "python3"
  },
  "language_info": {
   "codemirror_mode": {
    "name": "ipython",
    "version": 3
   },
   "file_extension": ".py",
   "mimetype": "text/x-python",
   "name": "python",
   "nbconvert_exporter": "python",
   "pygments_lexer": "ipython3",
   "version": "3.7.12"
  },
  "papermill": {
   "default_parameters": {},
   "duration": 71.216987,
   "end_time": "2021-12-14T18:49:47.785684",
   "environment_variables": {},
   "exception": null,
   "input_path": "__notebook__.ipynb",
   "output_path": "__notebook__.ipynb",
   "parameters": {},
   "start_time": "2021-12-14T18:48:36.568697",
   "version": "2.3.3"
  }
 },
 "nbformat": 4,
 "nbformat_minor": 5
}
